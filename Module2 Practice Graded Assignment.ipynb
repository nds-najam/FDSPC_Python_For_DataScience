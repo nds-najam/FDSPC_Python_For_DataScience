{
 "cells": [
  {
   "cell_type": "markdown",
   "id": "95910bee",
   "metadata": {
    "deletable": false,
    "editable": false,
    "nbgrader": {
     "cell_type": "markdown",
     "checksum": "39363f5fe94c09bf237e2d77acd28bd6",
     "grade": false,
     "grade_id": "cell-140d29e80e545b34",
     "locked": true,
     "schema_version": 3,
     "solution": false,
     "task": false
    }
   },
   "source": [
    "Hello Everyone ,\n",
    "\n",
    "In this practice assignment , we are going to solve some analysis questions based on the dataset.\n",
    "\n",
    "Dataset Overview\n",
    "\n",
    "The Fraud dataset consists of 100 rows and 5 columns, representing various attributes related to financial transactions. The dataset includes the following features:\n",
    "TransactionAmount: The monetary value of each transaction. This column includes some missing values which need to be addressed.\n",
    "TransactionType: The type of transaction, such as 'ATM', 'Online','In-store'.\n",
    "CustomerAge: The age of the customer involved in the transaction. \n",
    "CustomerLocation: The geographical location of the customer, specified by country codes like 'Suburban', 'Urban', 'Rural'\n",
    "Fraud: A boolean indicator specifying whether a transaction is fraudulent True (takes value 1) or False (takes value 0).\n",
    "    \n",
    "Our job is to analyze this dataset and answer few analysis questions which business wants to know."
   ]
  },
  {
   "cell_type": "code",
   "execution_count": 41,
   "id": "e42eadc9",
   "metadata": {
    "deletable": false,
    "editable": false,
    "nbgrader": {
     "cell_type": "code",
     "checksum": "9fde8ee592f116b83ee59e4442081422",
     "grade": false,
     "grade_id": "cell-8bb34e638c8a6313",
     "locked": true,
     "schema_version": 3,
     "solution": false,
     "task": false
    }
   },
   "outputs": [
    {
     "data": {
      "text/plain": [
       "TransactionAmount    float64\n",
       "TransactionType       object\n",
       "CustomerAge          float64\n",
       "CustomerLocation      object\n",
       "Fraud                float64\n",
       "dtype: object"
      ]
     },
     "execution_count": 41,
     "metadata": {},
     "output_type": "execute_result"
    }
   ],
   "source": [
    "import pandas as pd\n",
    "import numpy as np\n",
    "df=pd.read_csv('fraud_detection_data.csv')\n",
    "df.dtypes"
   ]
  },
  {
   "cell_type": "code",
   "execution_count": 16,
   "id": "f8aa2b2f",
   "metadata": {},
   "outputs": [
    {
     "data": {
      "text/html": [
       "<div>\n",
       "<style scoped>\n",
       "    .dataframe tbody tr th:only-of-type {\n",
       "        vertical-align: middle;\n",
       "    }\n",
       "\n",
       "    .dataframe tbody tr th {\n",
       "        vertical-align: top;\n",
       "    }\n",
       "\n",
       "    .dataframe thead th {\n",
       "        text-align: right;\n",
       "    }\n",
       "</style>\n",
       "<table border=\"1\" class=\"dataframe\">\n",
       "  <thead>\n",
       "    <tr style=\"text-align: right;\">\n",
       "      <th></th>\n",
       "      <th>TransactionAmount</th>\n",
       "      <th>TransactionType</th>\n",
       "      <th>CustomerAge</th>\n",
       "      <th>CustomerLocation</th>\n",
       "      <th>Fraud</th>\n",
       "    </tr>\n",
       "  </thead>\n",
       "  <tbody>\n",
       "    <tr>\n",
       "      <th>5</th>\n",
       "      <td>164.434575</td>\n",
       "      <td>Online</td>\n",
       "      <td>36.0</td>\n",
       "      <td>Urban</td>\n",
       "      <td>1.0</td>\n",
       "    </tr>\n",
       "    <tr>\n",
       "      <th>13</th>\n",
       "      <td>220.215720</td>\n",
       "      <td>ATM</td>\n",
       "      <td>56.0</td>\n",
       "      <td>Urban</td>\n",
       "      <td>1.0</td>\n",
       "    </tr>\n",
       "    <tr>\n",
       "      <th>14</th>\n",
       "      <td>NaN</td>\n",
       "      <td>ATM</td>\n",
       "      <td>35.0</td>\n",
       "      <td>Suburban</td>\n",
       "      <td>1.0</td>\n",
       "    </tr>\n",
       "    <tr>\n",
       "      <th>24</th>\n",
       "      <td>461.509284</td>\n",
       "      <td>In-store</td>\n",
       "      <td>59.0</td>\n",
       "      <td>Urban</td>\n",
       "      <td>1.0</td>\n",
       "    </tr>\n",
       "    <tr>\n",
       "      <th>36</th>\n",
       "      <td>311.567631</td>\n",
       "      <td>In-store</td>\n",
       "      <td>22.0</td>\n",
       "      <td>Suburban</td>\n",
       "      <td>1.0</td>\n",
       "    </tr>\n",
       "  </tbody>\n",
       "</table>\n",
       "</div>"
      ],
      "text/plain": [
       "    TransactionAmount TransactionType  CustomerAge CustomerLocation  Fraud\n",
       "5          164.434575          Online         36.0            Urban    1.0\n",
       "13         220.215720             ATM         56.0            Urban    1.0\n",
       "14                NaN             ATM         35.0         Suburban    1.0\n",
       "24         461.509284        In-store         59.0            Urban    1.0\n",
       "36         311.567631        In-store         22.0         Suburban    1.0"
      ]
     },
     "execution_count": 16,
     "metadata": {},
     "output_type": "execute_result"
    }
   ],
   "source": [
    "df[df['Fraud'] > 0].head()"
   ]
  },
  {
   "cell_type": "markdown",
   "id": "dd5524df",
   "metadata": {
    "deletable": false,
    "editable": false,
    "nbgrader": {
     "cell_type": "markdown",
     "checksum": "b765b15d387fe31700454293a78e0167",
     "grade": false,
     "grade_id": "cell-a7188ca9de075594",
     "locked": true,
     "schema_version": 3,
     "solution": false,
     "task": false
    }
   },
   "source": [
    "#### Q.1) Filter the dataset to only include transactions with a transaction amount greater than dollars 300 and return the TransactionAmount and TransactionType columns for those transactions."
   ]
  },
  {
   "cell_type": "code",
   "execution_count": 8,
   "id": "6af0eb91",
   "metadata": {
    "deletable": false,
    "nbgrader": {
     "cell_type": "code",
     "checksum": "be7361010c566b4dca79bb0173ff7a9f",
     "grade": false,
     "grade_id": "cell-aa2e603d61a9eaee",
     "locked": false,
     "schema_version": 3,
     "solution": true,
     "task": false
    }
   },
   "outputs": [],
   "source": [
    "def filtered_data(data):\n",
    "    # write your code here\n",
    "    dataFiltered = data[data['TransactionAmount'] > 300][['TransactionAmount','TransactionType']]\n",
    "    return dataFiltered"
   ]
  },
  {
   "cell_type": "code",
   "execution_count": 9,
   "id": "1d6519bb",
   "metadata": {
    "deletable": false,
    "editable": false,
    "nbgrader": {
     "cell_type": "code",
     "checksum": "3606270ea86666c46065b699896ff93b",
     "grade": true,
     "grade_id": "cell-151ffbcaf824081e",
     "locked": true,
     "points": 20,
     "schema_version": 3,
     "solution": false,
     "task": false
    }
   },
   "outputs": [],
   "source": [
    "# Assert statements (Test cases)\n",
    "assert filtered_data(data=df).shape == (60, 2),\"Filtered record shape might not be correct or columns selected might be wrong.\"\n",
    "assert filtered_data(data=df)['TransactionAmount'].min() > 300, \"Make sure that you have filtered the data correctly.\""
   ]
  },
  {
   "cell_type": "markdown",
   "id": "9927c445",
   "metadata": {
    "deletable": false,
    "editable": false,
    "nbgrader": {
     "cell_type": "markdown",
     "checksum": "57d9c51a7754a48a5759559be4a2edc0",
     "grade": false,
     "grade_id": "cell-80d8160f8b802b3e",
     "locked": true,
     "schema_version": 3,
     "solution": false,
     "task": false
    }
   },
   "source": [
    "#### Q.2) Calculate the total transaction amount for each transaction type."
   ]
  },
  {
   "cell_type": "code",
   "execution_count": 10,
   "id": "8e8dd02f",
   "metadata": {
    "deletable": false,
    "nbgrader": {
     "cell_type": "code",
     "checksum": "b2058b3f71bfa638d8d7f7b9942fed80",
     "grade": false,
     "grade_id": "cell-6936312da6683839",
     "locked": false,
     "schema_version": 3,
     "solution": true,
     "task": false
    }
   },
   "outputs": [],
   "source": [
    "def total_txn_amnt(data):\n",
    "    # write your code here\n",
    "    totalTxnAmount = data.groupby('TransactionType')['TransactionAmount'].sum()\n",
    "    return totalTxnAmount"
   ]
  },
  {
   "cell_type": "code",
   "execution_count": 11,
   "id": "5c2b1c4b",
   "metadata": {},
   "outputs": [
    {
     "data": {
      "text/plain": [
       "pandas.core.series.Series"
      ]
     },
     "execution_count": 11,
     "metadata": {},
     "output_type": "execute_result"
    }
   ],
   "source": [
    "type(total_txn_amnt(data=df))"
   ]
  },
  {
   "cell_type": "code",
   "execution_count": 12,
   "id": "6cfc28d4",
   "metadata": {},
   "outputs": [
    {
     "data": {
      "text/plain": [
       "12815.859628590211"
      ]
     },
     "execution_count": 12,
     "metadata": {},
     "output_type": "execute_result"
    }
   ],
   "source": [
    "total_txn_amnt(data=df)['In-store']"
   ]
  },
  {
   "cell_type": "code",
   "execution_count": 13,
   "id": "bf8319ed",
   "metadata": {
    "deletable": false,
    "editable": false,
    "nbgrader": {
     "cell_type": "code",
     "checksum": "cc78c17ea20b36fbf21517c6aad2008c",
     "grade": true,
     "grade_id": "cell-8b337519f55aa337",
     "locked": true,
     "points": 20,
     "schema_version": 3,
     "solution": false,
     "task": false
    }
   },
   "outputs": [],
   "source": [
    "# Assert statements (Test cases)\n",
    "assert round(total_txn_amnt(data=df)['In-store'],2) == 12815.86,\"Make sure that you have calculated all the values correctly\"\n",
    "assert round(total_txn_amnt(data=df)['Online'],2) == 13022.09,\"Make sure that you have calculated all the values correctly\""
   ]
  },
  {
   "cell_type": "markdown",
   "id": "daf9968c",
   "metadata": {
    "deletable": false,
    "editable": false,
    "nbgrader": {
     "cell_type": "markdown",
     "checksum": "4ada6d91875362df1cc89169b0ebb504",
     "grade": false,
     "grade_id": "cell-6ebeba4f132217d4",
     "locked": true,
     "schema_version": 3,
     "solution": false,
     "task": false
    }
   },
   "source": [
    "#### Q.3) Analyze the relationship between transaction amount and fraud occurrence.\n",
    "#### Split CustomerAge into a new feature AgeGroup which will take 3 values  '18-25':18 <= CustomerAge <= 25,'26-35':26 <= CustomerAge <= 35,'36+':CustomerAge>35\n",
    "#### Create a new feature called HighValueTransaction that is True if the TransactionAmount is above the median transaction amount, and False otherwise. \n",
    "#### Then, calculate the fraud rate (percentage of fraudulent transactions) for high-value and low-value transactions & AgeGroup, and return these fraud rates.\n",
    "\n",
    "#### Output dataframe should contains 3 columns 'AgeGroup','HighValueTransaction','FraudRate'"
   ]
  },
  {
   "cell_type": "code",
   "execution_count": 14,
   "id": "f20edabd",
   "metadata": {},
   "outputs": [
    {
     "data": {
      "text/plain": [
       "469.5010301425977"
      ]
     },
     "execution_count": 14,
     "metadata": {},
     "output_type": "execute_result"
    }
   ],
   "source": [
    "df['TransactionAmount'].median()"
   ]
  },
  {
   "cell_type": "code",
   "execution_count": 23,
   "id": "451e1a91",
   "metadata": {},
   "outputs": [
    {
     "data": {
      "text/html": [
       "<div>\n",
       "<style scoped>\n",
       "    .dataframe tbody tr th:only-of-type {\n",
       "        vertical-align: middle;\n",
       "    }\n",
       "\n",
       "    .dataframe tbody tr th {\n",
       "        vertical-align: top;\n",
       "    }\n",
       "\n",
       "    .dataframe thead th {\n",
       "        text-align: right;\n",
       "    }\n",
       "</style>\n",
       "<table border=\"1\" class=\"dataframe\">\n",
       "  <thead>\n",
       "    <tr style=\"text-align: right;\">\n",
       "      <th></th>\n",
       "      <th>TransactionAmount</th>\n",
       "      <th>TransactionType</th>\n",
       "      <th>CustomerAge</th>\n",
       "      <th>CustomerLocation</th>\n",
       "      <th>Fraud</th>\n",
       "    </tr>\n",
       "  </thead>\n",
       "  <tbody>\n",
       "    <tr>\n",
       "      <th>0</th>\n",
       "      <td>380.794718</td>\n",
       "      <td>ATM</td>\n",
       "      <td>37.0</td>\n",
       "      <td>Suburban</td>\n",
       "      <td>0.0</td>\n",
       "    </tr>\n",
       "    <tr>\n",
       "      <th>1</th>\n",
       "      <td>951.207163</td>\n",
       "      <td>ATM</td>\n",
       "      <td>53.0</td>\n",
       "      <td>Urban</td>\n",
       "      <td>0.0</td>\n",
       "    </tr>\n",
       "    <tr>\n",
       "      <th>2</th>\n",
       "      <td>734.674002</td>\n",
       "      <td>Online</td>\n",
       "      <td>36.0</td>\n",
       "      <td>Rural</td>\n",
       "      <td>0.0</td>\n",
       "    </tr>\n",
       "    <tr>\n",
       "      <th>3</th>\n",
       "      <td>602.671899</td>\n",
       "      <td>NaN</td>\n",
       "      <td>43.0</td>\n",
       "      <td>Urban</td>\n",
       "      <td>0.0</td>\n",
       "    </tr>\n",
       "    <tr>\n",
       "      <th>4</th>\n",
       "      <td>164.458454</td>\n",
       "      <td>In-store</td>\n",
       "      <td>20.0</td>\n",
       "      <td>Urban</td>\n",
       "      <td>0.0</td>\n",
       "    </tr>\n",
       "  </tbody>\n",
       "</table>\n",
       "</div>"
      ],
      "text/plain": [
       "   TransactionAmount TransactionType  CustomerAge CustomerLocation  Fraud\n",
       "0         380.794718             ATM         37.0         Suburban    0.0\n",
       "1         951.207163             ATM         53.0            Urban    0.0\n",
       "2         734.674002          Online         36.0            Rural    0.0\n",
       "3         602.671899             NaN         43.0            Urban    0.0\n",
       "4         164.458454        In-store         20.0            Urban    0.0"
      ]
     },
     "execution_count": 23,
     "metadata": {},
     "output_type": "execute_result"
    }
   ],
   "source": [
    "df.head()"
   ]
  },
  {
   "cell_type": "code",
   "execution_count": 26,
   "id": "df0f6013",
   "metadata": {
    "deletable": false,
    "nbgrader": {
     "cell_type": "code",
     "checksum": "9f3cb3e9ba4868ee230aaff941948d0d",
     "grade": false,
     "grade_id": "cell-bbafe3f8b2a8b915",
     "locked": false,
     "schema_version": 3,
     "solution": true,
     "task": false
    }
   },
   "outputs": [],
   "source": [
    "def analyze_fraud_patterns(df):\n",
    "    # write your code here\n",
    "    df['AgeGroup'] = df['CustomerAge'].apply(lambda age:'18-25' if age >= 18 and age <= 25 else('26-35' if age > 25 and age <=35 else '35+') )\n",
    "    df['HighValueTransaction'] = df['TransactionAmount'] > df['TransactionAmount'].median()\n",
    "\n",
    "        \n",
    "    fraud_rates = df.groupby(['AgeGroup','HighValueTransaction'])['Fraud'].mean().reset_index()\n",
    "    fraud_rates.rename(columns = {'Fraud':'FraudRate'},inplace=True)\n",
    "    fraud_rates['FraudRate'] = fraud_rates['FraudRate']*100\n",
    "    return fraud_rates"
   ]
  },
  {
   "cell_type": "code",
   "execution_count": 27,
   "id": "71574347",
   "metadata": {
    "deletable": false,
    "editable": false,
    "nbgrader": {
     "cell_type": "code",
     "checksum": "7a2ace2b4f03d8d744a406c7a478d9fe",
     "grade": false,
     "grade_id": "cell-4a1155fb9656f4df",
     "locked": true,
     "schema_version": 3,
     "solution": false,
     "task": false
    }
   },
   "outputs": [
    {
     "name": "stdout",
     "output_type": "stream",
     "text": [
      "  AgeGroup  HighValueTransaction  FraudRate\n",
      "0    18-25                 False  25.000000\n",
      "1    18-25                  True  25.000000\n",
      "2    26-35                 False  50.000000\n",
      "3    26-35                  True  25.000000\n",
      "4      35+                 False  16.666667\n",
      "5      35+                  True   6.250000\n"
     ]
    }
   ],
   "source": [
    "# Apply the function to the dataset\n",
    "fraud_analysis = analyze_fraud_patterns(df)\n",
    "print(fraud_analysis)"
   ]
  },
  {
   "cell_type": "code",
   "execution_count": 28,
   "id": "d18ef6d5",
   "metadata": {
    "deletable": false,
    "editable": false,
    "nbgrader": {
     "cell_type": "code",
     "checksum": "2bb192929eaee61ebe00cb8e129af871",
     "grade": true,
     "grade_id": "cell-be4dd2142f412c9c",
     "locked": true,
     "points": 20,
     "schema_version": 3,
     "solution": false,
     "task": false
    }
   },
   "outputs": [],
   "source": [
    "# Assert statements (Test cases)\n",
    "assert 'AgeGroup' in fraud_analysis.columns, \"Check if AgeGroup column is present in the data or not\"\n",
    "assert 'HighValueTransaction' in fraud_analysis.columns,\"Check if HighValueTransaction column is present in the data or not\"\n",
    "assert 'FraudRate' in fraud_analysis.columns,\"Check if FraudRate column is present in the data or not\"\n",
    "assert fraud_analysis[fraud_analysis['AgeGroup'] == '18-25']['FraudRate'].mean() > 0,\"Check if you have calculated the FraudRate correctly for HighValueTransaction or not\"\n",
    "assert fraud_analysis[fraud_analysis['HighValueTransaction'] == True]['FraudRate'].mean() > 0,\"Check if you have calculated the FraudRate correctly for HighValueTransaction or not\""
   ]
  },
  {
   "cell_type": "markdown",
   "id": "6bd0f96c",
   "metadata": {
    "deletable": false,
    "editable": false,
    "nbgrader": {
     "cell_type": "markdown",
     "checksum": "4f6bfdd0c519f15659510e3127451fb5",
     "grade": false,
     "grade_id": "cell-75ca7a079a389832",
     "locked": true,
     "schema_version": 3,
     "solution": false,
     "task": false
    }
   },
   "source": [
    "#### Q.4) Find the number of transactions and the average transaction amount for each customer location, sorted in descending order of the number of transactions."
   ]
  },
  {
   "cell_type": "code",
   "execution_count": 37,
   "id": "f4e40466",
   "metadata": {
    "deletable": false,
    "nbgrader": {
     "cell_type": "code",
     "checksum": "b5ddf7b66af0adc767bdce4692f0754f",
     "grade": false,
     "grade_id": "cell-6b1776e32c18e5c1",
     "locked": false,
     "schema_version": 3,
     "solution": true,
     "task": false
    }
   },
   "outputs": [],
   "source": [
    "def avg_no_txns(data):\n",
    "    # write your code here\n",
    "    df = data.groupby('CustomerLocation').agg(TransactionCount=('TransactionAmount', 'count'), AvgTransactionAmount=('TransactionAmount', 'mean'))\n",
    "    df = df.sort_values(by='TransactionCount',ascending=False)\n",
    "    return df"
   ]
  },
  {
   "cell_type": "code",
   "execution_count": 38,
   "id": "031114b8",
   "metadata": {
    "deletable": false,
    "editable": false,
    "nbgrader": {
     "cell_type": "code",
     "checksum": "fac8d26f1a1d358390e5335d4e566b0a",
     "grade": false,
     "grade_id": "cell-1df1b9030d7fdf89",
     "locked": true,
     "schema_version": 3,
     "solution": false,
     "task": false
    }
   },
   "outputs": [],
   "source": [
    "location_stats=avg_no_txns(data=df)"
   ]
  },
  {
   "cell_type": "code",
   "execution_count": 39,
   "id": "a1dfbc0a",
   "metadata": {
    "deletable": false,
    "editable": false,
    "nbgrader": {
     "cell_type": "code",
     "checksum": "2939f9f5261e669c0f6479f6b8026457",
     "grade": true,
     "grade_id": "cell-c8854735810db71c",
     "locked": true,
     "points": 20,
     "schema_version": 3,
     "solution": false,
     "task": false
    }
   },
   "outputs": [],
   "source": [
    "# Assert statements (Test cases) \n",
    "assert location_stats.loc['Suburban']['TransactionCount'] == 30,\"Make sure if you have calculated the values correctly\"\n",
    "assert location_stats.loc['Urban']['AvgTransactionAmount'] == 502.1501891278586,\"Make sure if you have calculated the values correctly\""
   ]
  },
  {
   "cell_type": "markdown",
   "id": "cf631ae4",
   "metadata": {
    "deletable": false,
    "editable": false,
    "nbgrader": {
     "cell_type": "markdown",
     "checksum": "cfca2cd57eea46c391608a7561819e70",
     "grade": false,
     "grade_id": "cell-0687154aad6dc89f",
     "locked": true,
     "schema_version": 3,
     "solution": false,
     "task": false
    }
   },
   "source": [
    "#### Q.5) Find the total number of missing values in entire data & fill the missing values by average value for column \"TransactionAmount\"."
   ]
  },
  {
   "cell_type": "code",
   "execution_count": 42,
   "id": "9ad12e84",
   "metadata": {
    "scrolled": true
   },
   "outputs": [
    {
     "data": {
      "text/html": [
       "<div>\n",
       "<style scoped>\n",
       "    .dataframe tbody tr th:only-of-type {\n",
       "        vertical-align: middle;\n",
       "    }\n",
       "\n",
       "    .dataframe tbody tr th {\n",
       "        vertical-align: top;\n",
       "    }\n",
       "\n",
       "    .dataframe thead th {\n",
       "        text-align: right;\n",
       "    }\n",
       "</style>\n",
       "<table border=\"1\" class=\"dataframe\">\n",
       "  <thead>\n",
       "    <tr style=\"text-align: right;\">\n",
       "      <th></th>\n",
       "      <th>TransactionAmount</th>\n",
       "      <th>TransactionType</th>\n",
       "      <th>CustomerAge</th>\n",
       "      <th>CustomerLocation</th>\n",
       "      <th>Fraud</th>\n",
       "    </tr>\n",
       "  </thead>\n",
       "  <tbody>\n",
       "    <tr>\n",
       "      <th>0</th>\n",
       "      <td>380.794718</td>\n",
       "      <td>ATM</td>\n",
       "      <td>37.0</td>\n",
       "      <td>Suburban</td>\n",
       "      <td>0.0</td>\n",
       "    </tr>\n",
       "    <tr>\n",
       "      <th>1</th>\n",
       "      <td>951.207163</td>\n",
       "      <td>ATM</td>\n",
       "      <td>53.0</td>\n",
       "      <td>Urban</td>\n",
       "      <td>0.0</td>\n",
       "    </tr>\n",
       "    <tr>\n",
       "      <th>2</th>\n",
       "      <td>734.674002</td>\n",
       "      <td>Online</td>\n",
       "      <td>36.0</td>\n",
       "      <td>Rural</td>\n",
       "      <td>0.0</td>\n",
       "    </tr>\n",
       "    <tr>\n",
       "      <th>3</th>\n",
       "      <td>602.671899</td>\n",
       "      <td>NaN</td>\n",
       "      <td>43.0</td>\n",
       "      <td>Urban</td>\n",
       "      <td>0.0</td>\n",
       "    </tr>\n",
       "    <tr>\n",
       "      <th>4</th>\n",
       "      <td>164.458454</td>\n",
       "      <td>In-store</td>\n",
       "      <td>20.0</td>\n",
       "      <td>Urban</td>\n",
       "      <td>0.0</td>\n",
       "    </tr>\n",
       "  </tbody>\n",
       "</table>\n",
       "</div>"
      ],
      "text/plain": [
       "   TransactionAmount TransactionType  CustomerAge CustomerLocation  Fraud\n",
       "0         380.794718             ATM         37.0         Suburban    0.0\n",
       "1         951.207163             ATM         53.0            Urban    0.0\n",
       "2         734.674002          Online         36.0            Rural    0.0\n",
       "3         602.671899             NaN         43.0            Urban    0.0\n",
       "4         164.458454        In-store         20.0            Urban    0.0"
      ]
     },
     "execution_count": 42,
     "metadata": {},
     "output_type": "execute_result"
    }
   ],
   "source": [
    "df.head()"
   ]
  },
  {
   "cell_type": "code",
   "execution_count": 46,
   "id": "06947df9",
   "metadata": {
    "deletable": false,
    "nbgrader": {
     "cell_type": "code",
     "checksum": "c900237bd3415fa3975c9d5753b0b31c",
     "grade": false,
     "grade_id": "cell-529a7d1edef07d22",
     "locked": false,
     "schema_version": 3,
     "solution": true,
     "task": false
    }
   },
   "outputs": [],
   "source": [
    "def missing_imp(data):\n",
    "    # .isnull().sum().sum() will calculate the total number of missing values \n",
    "    total_missing_values = data.isnull().sum().sum()\n",
    "    # Calculating avergae for TransactionAmount & using fillna for missing values\n",
    "    average_transaction_amount = data['TransactionAmount'].mean()\n",
    "    data['TransactionAmount'].fillna(average_transaction_amount, inplace=True)\n",
    "    return total_missing_values, data"
   ]
  },
  {
   "cell_type": "code",
   "execution_count": 47,
   "id": "4f4802ab",
   "metadata": {
    "deletable": false,
    "editable": false,
    "nbgrader": {
     "cell_type": "code",
     "checksum": "3522333279cf4feba1371cbf57e8eae5",
     "grade": false,
     "grade_id": "cell-502e047e3f9a48c3",
     "locked": true,
     "schema_version": 3,
     "solution": false,
     "task": false
    }
   },
   "outputs": [],
   "source": [
    "df_missing=missing_imp(data=df)[1]   \n",
    "total_missing_values_after=df_missing['TransactionAmount'].isnull().sum().sum()\n",
    "total_missing_values=missing_imp(data=df)[0]"
   ]
  },
  {
   "cell_type": "code",
   "execution_count": 48,
   "id": "6423b095",
   "metadata": {
    "deletable": false,
    "editable": false,
    "nbgrader": {
     "cell_type": "code",
     "checksum": "c9d23f54b3aa8e1af57dea6ad4db7aad",
     "grade": true,
     "grade_id": "cell-313045aed49e7ea3",
     "locked": true,
     "points": 20,
     "schema_version": 3,
     "solution": false,
     "task": false
    }
   },
   "outputs": [],
   "source": [
    "# Assert statements (Test cases) \n",
    "assert total_missing_values == 40 ,\"Check if you have calculated the missing values correctly or not\"\n",
    "assert total_missing_values_after == 0, \"Check if you have calculated the missing values correctly or not\""
   ]
  },
  {
   "cell_type": "markdown",
   "id": "7eef25dd",
   "metadata": {
    "deletable": false,
    "editable": false,
    "nbgrader": {
     "cell_type": "markdown",
     "checksum": "190a210d926a77206e8ff9d52f52be01",
     "grade": false,
     "grade_id": "cell-89b94c9302689034",
     "locked": true,
     "schema_version": 3,
     "solution": false,
     "task": false
    }
   },
   "source": [
    "## Solution"
   ]
  },
  {
   "cell_type": "code",
   "execution_count": null,
   "id": "6418cc54",
   "metadata": {
    "deletable": false,
    "editable": false,
    "nbgrader": {
     "cell_type": "code",
     "checksum": "4dd5593555bfc62d6d6dba8d7541080d",
     "grade": false,
     "grade_id": "cell-ffa9a381b9031da2",
     "locked": true,
     "schema_version": 3,
     "solution": false,
     "task": false
    }
   },
   "outputs": [],
   "source": [
    "#Q.1) Solution:\n",
    "def filtered_data(data):\n",
    "    ## Filtering the data on the basis of TransactionAmount condition.\n",
    "    filtered_data = df[df['TransactionAmount'] > 300][['TransactionAmount', 'TransactionType']]\n",
    "    return filtered_data"
   ]
  },
  {
   "cell_type": "code",
   "execution_count": null,
   "id": "9f2f2718",
   "metadata": {
    "deletable": false,
    "editable": false,
    "nbgrader": {
     "cell_type": "code",
     "checksum": "235ebdefe9aa0a717a061dcb3ca8c394",
     "grade": false,
     "grade_id": "cell-e0b766c53d4fb15c",
     "locked": true,
     "schema_version": 3,
     "solution": false,
     "task": false
    }
   },
   "outputs": [],
   "source": [
    "#Q.2) Solution:\n",
    "def total_txn_amnt(data):\n",
    "    # Grouping the data wrto TransactionType & aggregating TransactionAmount with the help of sum.\n",
    "    transaction_totals = data.groupby('TransactionType')['TransactionAmount'].sum()\n",
    "    return transaction_totals"
   ]
  },
  {
   "cell_type": "code",
   "execution_count": null,
   "id": "532a0937",
   "metadata": {
    "deletable": false,
    "editable": false,
    "nbgrader": {
     "cell_type": "code",
     "checksum": "f325fa7ec3642f0055b4b0cb3c97708f",
     "grade": false,
     "grade_id": "cell-e47b054d2d8415c2",
     "locked": true,
     "schema_version": 3,
     "solution": false,
     "task": false
    }
   },
   "outputs": [],
   "source": [
    "# Q.3) Solution:\n",
    "def analyze_fraud_patterns(df):\n",
    "    # Step 1: Create AgeGroup column\n",
    "    df['AgeGroup'] = df['CustomerAge'].apply(lambda age: '18-25' if 18 <= age <= 25 else ('26-35' if 26 <= age <= 35 else '36+'))\n",
    "    \n",
    "    # Step 2: Create HighValueTransaction column\n",
    "    median_amount = df['TransactionAmount'].median()\n",
    "    df['HighValueTransaction'] = df['TransactionAmount'] > median_amount\n",
    "    \n",
    "    # Step 3: Calculate fraud rate for each combination of AgeGroup and HighValueTransaction\n",
    "    fraud_rates = df.groupby(['AgeGroup', 'HighValueTransaction'])['Fraud'].mean().reset_index()\n",
    "    fraud_rates.rename(columns={'Fraud': 'FraudRate'}, inplace=True)\n",
    "    fraud_rates['FraudRate'] = fraud_rates['FraudRate'] * 100\n",
    "    \n",
    "    return fraud_rates"
   ]
  },
  {
   "cell_type": "code",
   "execution_count": null,
   "id": "7bc31c43",
   "metadata": {
    "deletable": false,
    "editable": false,
    "nbgrader": {
     "cell_type": "code",
     "checksum": "716482c776393bd9514f84ca85afb41b",
     "grade": false,
     "grade_id": "cell-800301cda81c867f",
     "locked": true,
     "schema_version": 3,
     "solution": false,
     "task": false
    }
   },
   "outputs": [],
   "source": [
    "# Q.4) Solution\n",
    "def avg_no_txns(data):\n",
    "    # using groupby and aggregation functions\n",
    "    location_stats = data.groupby('CustomerLocation').agg(TransactionCount=('TransactionAmount', 'count'), AvgTransactionAmount=('TransactionAmount', 'mean'))\n",
    "    location_stats = location_stats.sort_values(by='TransactionCount', ascending=False)\n",
    "    return location_stats"
   ]
  },
  {
   "cell_type": "code",
   "execution_count": null,
   "id": "0fa31828",
   "metadata": {
    "deletable": false,
    "editable": false,
    "nbgrader": {
     "cell_type": "code",
     "checksum": "ca671efa476171411d8647c7e4b80aa6",
     "grade": false,
     "grade_id": "cell-0e3eb8b1751617cd",
     "locked": true,
     "schema_version": 3,
     "solution": false,
     "task": false
    }
   },
   "outputs": [],
   "source": [
    "# Q.5) Solution:\n",
    "def missing_imp(data):\n",
    "    # .isnull().sum().sum() will calculate the total number of missing values \n",
    "    total_missing_values = data.isnull().sum().sum()\n",
    "    # Calculating avergae for TransactionAmount & using fillna for missing values\n",
    "    average_transaction_amount = data['TransactionAmount'].mean()\n",
    "    data['TransactionAmount'].fillna(average_transaction_amount, inplace=True)\n",
    "    return total_missing_values, data"
   ]
  }
 ],
 "metadata": {
  "kernelspec": {
   "display_name": "Python 3 (ipykernel)",
   "language": "python",
   "name": "python3"
  },
  "language_info": {
   "codemirror_mode": {
    "name": "ipython",
    "version": 3
   },
   "file_extension": ".py",
   "mimetype": "text/x-python",
   "name": "python",
   "nbconvert_exporter": "python",
   "pygments_lexer": "ipython3",
   "version": "3.10.6"
  }
 },
 "nbformat": 4,
 "nbformat_minor": 5
}
