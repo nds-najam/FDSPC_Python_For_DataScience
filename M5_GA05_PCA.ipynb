{
 "cells": [
  {
   "cell_type": "markdown",
   "metadata": {
    "deletable": false,
    "editable": false,
    "nbgrader": {
     "cell_type": "markdown",
     "checksum": "9fc60084b884af807b1eaffbd4e24c7d",
     "grade": false,
     "grade_id": "cell-f7171899571b05ed",
     "locked": true,
     "schema_version": 3,
     "solution": false,
     "task": false
    }
   },
   "source": [
    "### Graded Lab 5\n",
    "\n",
    "Hello ! Welcome to Graded Lab of Module 5.\n",
    "\n",
    "In the last assignment we had worked on missing values & outliers.\n",
    "Its high time when we look at the feature engineering & Principal component analysis.\n",
    "\n",
    "**So lets go ahead with the last graded assignment for the course !**\n",
    "\n",
    "In case if you are not able to recollect the problem description and data description then mentioning it below.\n",
    "\n",
    "Lets look at the problem statement,\n",
    "\n",
    "*Client: ABC Retail, Incorporated, rest-of-the-world division* \n",
    "\n",
    "***Project name: Online retail sales analysis*** \n",
    "\n",
    "An online retailer, ABC, Inc., operates in nearly 100 countries worldwide, selling furniture, office supplies and technology products to customers in three segments: consumer, corporate and home office. ABC, Inc. is a US-based company, and it has two major divisions: US and rest of the world. We are working with the rest of the world division of the company. \n",
    "\n",
    "They have provided us with online sales transaction data from 2011 to 2014.\n",
    "\n",
    "We are given 3 datasets:-\n",
    "\n",
    "1. Data on each sale; 51290 records; all data in US dollars\n",
    "It contains fields like\n",
    "**order_id** (identifier) ,order_date ,ship_date ,ship_mode ,**customer_id**(identifier) ,product_id ,category ,sub_category ,product_name ,sales ,quantity ,discount ,profit ,shipping_cost ,order_priority ,**vendor_code** (identifier) \n",
    "\n",
    "\n",
    "2. Data on the customers; 1590 records \n",
    "It contains fields like\n",
    "**customer_id** (identifier) ,customer_name ,city ,state ,country ,postal_code ,segment ,market ,region \n",
    "\n",
    "3. Data on vendors who supply the retailer; 65 records \n",
    "It contains fields like\n",
    "vendor ,**vendor_code** (identifier) \n",
    "\n",
    "We need to analyze the data and need to provide answer to different questions asked by company officials."
   ]
  },
  {
   "cell_type": "code",
   "execution_count": 1,
   "metadata": {
    "code_folding": [
     0
    ],
    "deletable": false,
    "editable": false,
    "nbgrader": {
     "cell_type": "code",
     "checksum": "9bc1197652bf32abbd6c75aa91d59be8",
     "grade": false,
     "grade_id": "cell-4c17e0403c1c8961",
     "locked": true,
     "schema_version": 3,
     "solution": false,
     "task": false
    }
   },
   "outputs": [
    {
     "data": {
      "text/html": [
       "<div>\n",
       "<style scoped>\n",
       "    .dataframe tbody tr th:only-of-type {\n",
       "        vertical-align: middle;\n",
       "    }\n",
       "\n",
       "    .dataframe tbody tr th {\n",
       "        vertical-align: top;\n",
       "    }\n",
       "\n",
       "    .dataframe thead th {\n",
       "        text-align: right;\n",
       "    }\n",
       "</style>\n",
       "<table border=\"1\" class=\"dataframe\">\n",
       "  <thead>\n",
       "    <tr style=\"text-align: right;\">\n",
       "      <th></th>\n",
       "      <th>row_id</th>\n",
       "      <th>order_id</th>\n",
       "      <th>order_date</th>\n",
       "      <th>ship_date</th>\n",
       "      <th>ship_mode</th>\n",
       "      <th>customer_id</th>\n",
       "      <th>product_id</th>\n",
       "      <th>category</th>\n",
       "      <th>sub_category</th>\n",
       "      <th>product_name</th>\n",
       "      <th>sales</th>\n",
       "      <th>quantity</th>\n",
       "      <th>discount</th>\n",
       "      <th>profit</th>\n",
       "      <th>shipping_cost</th>\n",
       "      <th>order_priority</th>\n",
       "      <th>vendor_code</th>\n",
       "    </tr>\n",
       "  </thead>\n",
       "  <tbody>\n",
       "    <tr>\n",
       "      <th>0</th>\n",
       "      <td>1</td>\n",
       "      <td>MX-2014-143658</td>\n",
       "      <td>02/10/2014</td>\n",
       "      <td>06/10/2014</td>\n",
       "      <td>Standard Class</td>\n",
       "      <td>SC-20575</td>\n",
       "      <td>OFF-LA-10002782</td>\n",
       "      <td>Office Supplies</td>\n",
       "      <td>Labels</td>\n",
       "      <td>Hon File Folder Labels, Adjustable</td>\n",
       "      <td>13.08</td>\n",
       "      <td>3</td>\n",
       "      <td>0.0</td>\n",
       "      <td>4.56</td>\n",
       "      <td>1.03</td>\n",
       "      <td>Medium</td>\n",
       "      <td>VE_001</td>\n",
       "    </tr>\n",
       "    <tr>\n",
       "      <th>1</th>\n",
       "      <td>2</td>\n",
       "      <td>MX-2012-155047</td>\n",
       "      <td>15/10/2012</td>\n",
       "      <td>20/10/2012</td>\n",
       "      <td>Standard Class</td>\n",
       "      <td>KW-16570</td>\n",
       "      <td>FUR-FU-10004015</td>\n",
       "      <td>Furniture</td>\n",
       "      <td>Furnishings</td>\n",
       "      <td>Tenex Clock, Durable</td>\n",
       "      <td>252.16</td>\n",
       "      <td>8</td>\n",
       "      <td>0.0</td>\n",
       "      <td>90.72</td>\n",
       "      <td>13.45</td>\n",
       "      <td>Medium</td>\n",
       "      <td>VE_002</td>\n",
       "    </tr>\n",
       "    <tr>\n",
       "      <th>2</th>\n",
       "      <td>3</td>\n",
       "      <td>MX-2012-155047</td>\n",
       "      <td>15/10/2012</td>\n",
       "      <td>20/10/2012</td>\n",
       "      <td>Standard Class</td>\n",
       "      <td>KW-16570</td>\n",
       "      <td>FUR-BO-10002352</td>\n",
       "      <td>Furniture</td>\n",
       "      <td>Bookcases</td>\n",
       "      <td>Ikea 3-Shelf Cabinet, Mobile</td>\n",
       "      <td>193.28</td>\n",
       "      <td>2</td>\n",
       "      <td>0.0</td>\n",
       "      <td>54.08</td>\n",
       "      <td>9.63</td>\n",
       "      <td>Medium</td>\n",
       "      <td>VE_003</td>\n",
       "    </tr>\n",
       "    <tr>\n",
       "      <th>3</th>\n",
       "      <td>4</td>\n",
       "      <td>MX-2012-155047</td>\n",
       "      <td>15/10/2012</td>\n",
       "      <td>20/10/2012</td>\n",
       "      <td>Standard Class</td>\n",
       "      <td>KW-16570</td>\n",
       "      <td>OFF-BI-10004428</td>\n",
       "      <td>Office Supplies</td>\n",
       "      <td>Binders</td>\n",
       "      <td>Cardinal Binder, Clear</td>\n",
       "      <td>35.44</td>\n",
       "      <td>4</td>\n",
       "      <td>0.0</td>\n",
       "      <td>4.96</td>\n",
       "      <td>1.37</td>\n",
       "      <td>Medium</td>\n",
       "      <td>VE_004</td>\n",
       "    </tr>\n",
       "    <tr>\n",
       "      <th>4</th>\n",
       "      <td>5</td>\n",
       "      <td>MX-2012-155047</td>\n",
       "      <td>15/10/2012</td>\n",
       "      <td>20/10/2012</td>\n",
       "      <td>Standard Class</td>\n",
       "      <td>KW-16570</td>\n",
       "      <td>OFF-AR-10004594</td>\n",
       "      <td>Office Supplies</td>\n",
       "      <td>Art</td>\n",
       "      <td>Sanford Canvas, Water Color</td>\n",
       "      <td>71.60</td>\n",
       "      <td>2</td>\n",
       "      <td>0.0</td>\n",
       "      <td>11.44</td>\n",
       "      <td>3.79</td>\n",
       "      <td>Medium</td>\n",
       "      <td>VE_005</td>\n",
       "    </tr>\n",
       "  </tbody>\n",
       "</table>\n",
       "</div>"
      ],
      "text/plain": [
       "   row_id        order_id  order_date   ship_date       ship_mode customer_id  \\\n",
       "0       1  MX-2014-143658  02/10/2014  06/10/2014  Standard Class    SC-20575   \n",
       "1       2  MX-2012-155047  15/10/2012  20/10/2012  Standard Class    KW-16570   \n",
       "2       3  MX-2012-155047  15/10/2012  20/10/2012  Standard Class    KW-16570   \n",
       "3       4  MX-2012-155047  15/10/2012  20/10/2012  Standard Class    KW-16570   \n",
       "4       5  MX-2012-155047  15/10/2012  20/10/2012  Standard Class    KW-16570   \n",
       "\n",
       "        product_id         category sub_category  \\\n",
       "0  OFF-LA-10002782  Office Supplies       Labels   \n",
       "1  FUR-FU-10004015        Furniture  Furnishings   \n",
       "2  FUR-BO-10002352        Furniture    Bookcases   \n",
       "3  OFF-BI-10004428  Office Supplies      Binders   \n",
       "4  OFF-AR-10004594  Office Supplies          Art   \n",
       "\n",
       "                         product_name   sales  quantity  discount  profit  \\\n",
       "0  Hon File Folder Labels, Adjustable   13.08         3       0.0    4.56   \n",
       "1                Tenex Clock, Durable  252.16         8       0.0   90.72   \n",
       "2        Ikea 3-Shelf Cabinet, Mobile  193.28         2       0.0   54.08   \n",
       "3              Cardinal Binder, Clear   35.44         4       0.0    4.96   \n",
       "4         Sanford Canvas, Water Color   71.60         2       0.0   11.44   \n",
       "\n",
       "   shipping_cost order_priority vendor_code  \n",
       "0           1.03         Medium      VE_001  \n",
       "1          13.45         Medium      VE_002  \n",
       "2           9.63         Medium      VE_003  \n",
       "3           1.37         Medium      VE_004  \n",
       "4           3.79         Medium      VE_005  "
      ]
     },
     "execution_count": 1,
     "metadata": {},
     "output_type": "execute_result"
    }
   ],
   "source": [
    "# importing libraries\n",
    "import pandas as pd\n",
    "import numpy as np\n",
    "import seaborn as sns\n",
    "import matplotlib.pyplot as plt\n",
    "from scipy.stats import norm\n",
    "from itertools import combinations\n",
    "from sklearn.preprocessing import StandardScaler\n",
    "from sklearn.decomposition import PCA\n",
    "\n",
    "### Reading sales data\n",
    "sales = pd.read_csv('sales_data.csv')\n",
    "\n",
    "### Reading customer data\n",
    "cust = pd.read_csv(r'customers.csv',encoding='iso-8859-1')\n",
    "\n",
    "### Reading vendor data\n",
    "vend = pd.read_csv(r'vendors.csv')\n",
    "sales.head()"
   ]
  },
  {
   "cell_type": "markdown",
   "metadata": {
    "deletable": false,
    "editable": false,
    "nbgrader": {
     "cell_type": "markdown",
     "checksum": "00eefe9f054d05c8c11ebcfe9bc04a5b",
     "grade": false,
     "grade_id": "cell-4dc354b2761c4e3b",
     "locked": true,
     "schema_version": 3,
     "solution": false,
     "task": false
    }
   },
   "source": [
    "In order to solve the next questions , we need to combine all the 3 datasets into a single dataframe such that every details of sales dataframe are intact. So here we have written a data processing function.\n",
    "There are 2 tasks which are to be performed.\n",
    "1. Merge/ Join all the 3 datasets into a single dataframe such that every details of sales dataframe are intact. (Understand which should be the joining key , type of join , refer .merge() function of pandas)\n",
    "2. Convert 'order_date' into a datetime column.\n",
    "**Return output as a dataframe**"
   ]
  },
  {
   "cell_type": "code",
   "execution_count": 2,
   "metadata": {
    "deletable": false,
    "nbgrader": {
     "cell_type": "code",
     "checksum": "bb96071fa0009e8888d15cd2e59a2839",
     "grade": false,
     "grade_id": "cell-171f8d30f5d84056",
     "locked": false,
     "schema_version": 3,
     "solution": true,
     "task": false
    }
   },
   "outputs": [],
   "source": [
    "#### data_merging & order_date processing , data1 will be sales , data2 will be customer dataset & data3 will be vendor dataset.\n",
    "\n",
    "def data_process(data1,data2,data3):\n",
    "    # your code here\n",
    "    merged_df = pd.merge(data1,data2,on='customer_id',how='left')\n",
    "    merged_df = pd.merge(merged_df,data3,on='vendor_code',how='left')\n",
    "    merged_df['order_date'] = pd.to_datetime(merged_df['order_date'])\n",
    "    return merged_df"
   ]
  },
  {
   "cell_type": "code",
   "execution_count": 3,
   "metadata": {
    "deletable": false,
    "editable": false,
    "nbgrader": {
     "cell_type": "code",
     "checksum": "da3c5d11eca78dbf422924bf20f58955",
     "grade": false,
     "grade_id": "cell-45cced5365115e88",
     "locked": true,
     "schema_version": 3,
     "solution": false,
     "task": false
    }
   },
   "outputs": [],
   "source": [
    "sales= data_process(data1=sales.copy(),data2=cust.copy(),data3=vend.copy())"
   ]
  },
  {
   "cell_type": "code",
   "execution_count": 4,
   "metadata": {
    "deletable": false,
    "editable": false,
    "nbgrader": {
     "cell_type": "code",
     "checksum": "40bc744c3c305203bf9d8b365a59b4b7",
     "grade": true,
     "grade_id": "cell-61ebe95bf598597b",
     "locked": true,
     "points": 0,
     "schema_version": 3,
     "solution": false,
     "task": false
    }
   },
   "outputs": [],
   "source": [
    "assert sales['order_date'].dtypes=='<M8[ns]' ,'Make sure if you have converted order_date into a datetime format correctly or not.'\n",
    "assert sales.shape== (51290,26) ,'Checking size and shape of dataframe after merging is a very important check.'"
   ]
  },
  {
   "cell_type": "markdown",
   "metadata": {
    "deletable": false,
    "editable": false,
    "nbgrader": {
     "cell_type": "markdown",
     "checksum": "be2d14217e8998c2e6cdc3d0ba26c154",
     "grade": false,
     "grade_id": "cell-71fb2e2dc8baad31",
     "locked": true,
     "schema_version": 3,
     "solution": false,
     "task": false
    }
   },
   "source": [
    "### Q.1) Create a feature for identifying which orders are ordered on weekends. Flag will take value 1 if order is ordered on weekends & 0 otherwise. (Sat & Sun are weekends). Return  the output series.\n",
    "\n",
    "Hint: Think of using weekday() function, consider'order_date' as the required columns for computations. "
   ]
  },
  {
   "cell_type": "code",
   "execution_count": 5,
   "metadata": {},
   "outputs": [
    {
     "data": {
      "text/html": [
       "<div>\n",
       "<style scoped>\n",
       "    .dataframe tbody tr th:only-of-type {\n",
       "        vertical-align: middle;\n",
       "    }\n",
       "\n",
       "    .dataframe tbody tr th {\n",
       "        vertical-align: top;\n",
       "    }\n",
       "\n",
       "    .dataframe thead th {\n",
       "        text-align: right;\n",
       "    }\n",
       "</style>\n",
       "<table border=\"1\" class=\"dataframe\">\n",
       "  <thead>\n",
       "    <tr style=\"text-align: right;\">\n",
       "      <th></th>\n",
       "      <th>row_id</th>\n",
       "      <th>order_id</th>\n",
       "      <th>order_date</th>\n",
       "      <th>ship_date</th>\n",
       "      <th>ship_mode</th>\n",
       "      <th>customer_id</th>\n",
       "      <th>product_id</th>\n",
       "      <th>category</th>\n",
       "      <th>sub_category</th>\n",
       "      <th>product_name</th>\n",
       "      <th>...</th>\n",
       "      <th>customer_name</th>\n",
       "      <th>city</th>\n",
       "      <th>state</th>\n",
       "      <th>country</th>\n",
       "      <th>postal_code</th>\n",
       "      <th>segment</th>\n",
       "      <th>market</th>\n",
       "      <th>region</th>\n",
       "      <th>vendor</th>\n",
       "      <th>weekend_orders</th>\n",
       "    </tr>\n",
       "  </thead>\n",
       "  <tbody>\n",
       "    <tr>\n",
       "      <th>0</th>\n",
       "      <td>1</td>\n",
       "      <td>MX-2014-143658</td>\n",
       "      <td>2014-02-10</td>\n",
       "      <td>06/10/2014</td>\n",
       "      <td>Standard Class</td>\n",
       "      <td>SC-20575</td>\n",
       "      <td>OFF-LA-10002782</td>\n",
       "      <td>Office Supplies</td>\n",
       "      <td>Labels</td>\n",
       "      <td>Hon File Folder Labels, Adjustable</td>\n",
       "      <td>...</td>\n",
       "      <td>Sonia Cooley</td>\n",
       "      <td>Mexico City</td>\n",
       "      <td>Distrito Federal</td>\n",
       "      <td>Mexico</td>\n",
       "      <td>NaN</td>\n",
       "      <td>Consumer</td>\n",
       "      <td>LATAM</td>\n",
       "      <td>LATAM-North</td>\n",
       "      <td>Accenco</td>\n",
       "      <td>0</td>\n",
       "    </tr>\n",
       "    <tr>\n",
       "      <th>1</th>\n",
       "      <td>2</td>\n",
       "      <td>MX-2012-155047</td>\n",
       "      <td>2012-10-15</td>\n",
       "      <td>20/10/2012</td>\n",
       "      <td>Standard Class</td>\n",
       "      <td>KW-16570</td>\n",
       "      <td>FUR-FU-10004015</td>\n",
       "      <td>Furniture</td>\n",
       "      <td>Furnishings</td>\n",
       "      <td>Tenex Clock, Durable</td>\n",
       "      <td>...</td>\n",
       "      <td>Kelly Williams</td>\n",
       "      <td>Dos Quebradas</td>\n",
       "      <td>Risaralda</td>\n",
       "      <td>Colombia</td>\n",
       "      <td>NaN</td>\n",
       "      <td>Consumer</td>\n",
       "      <td>LATAM</td>\n",
       "      <td>LATAM-South</td>\n",
       "      <td>Ace Corporation</td>\n",
       "      <td>0</td>\n",
       "    </tr>\n",
       "    <tr>\n",
       "      <th>2</th>\n",
       "      <td>3</td>\n",
       "      <td>MX-2012-155047</td>\n",
       "      <td>2012-10-15</td>\n",
       "      <td>20/10/2012</td>\n",
       "      <td>Standard Class</td>\n",
       "      <td>KW-16570</td>\n",
       "      <td>FUR-BO-10002352</td>\n",
       "      <td>Furniture</td>\n",
       "      <td>Bookcases</td>\n",
       "      <td>Ikea 3-Shelf Cabinet, Mobile</td>\n",
       "      <td>...</td>\n",
       "      <td>Kelly Williams</td>\n",
       "      <td>Dos Quebradas</td>\n",
       "      <td>Risaralda</td>\n",
       "      <td>Colombia</td>\n",
       "      <td>NaN</td>\n",
       "      <td>Consumer</td>\n",
       "      <td>LATAM</td>\n",
       "      <td>LATAM-South</td>\n",
       "      <td>Nero</td>\n",
       "      <td>0</td>\n",
       "    </tr>\n",
       "    <tr>\n",
       "      <th>3</th>\n",
       "      <td>4</td>\n",
       "      <td>MX-2012-155047</td>\n",
       "      <td>2012-10-15</td>\n",
       "      <td>20/10/2012</td>\n",
       "      <td>Standard Class</td>\n",
       "      <td>KW-16570</td>\n",
       "      <td>OFF-BI-10004428</td>\n",
       "      <td>Office Supplies</td>\n",
       "      <td>Binders</td>\n",
       "      <td>Cardinal Binder, Clear</td>\n",
       "      <td>...</td>\n",
       "      <td>Kelly Williams</td>\n",
       "      <td>Dos Quebradas</td>\n",
       "      <td>Risaralda</td>\n",
       "      <td>Colombia</td>\n",
       "      <td>NaN</td>\n",
       "      <td>Consumer</td>\n",
       "      <td>LATAM</td>\n",
       "      <td>LATAM-South</td>\n",
       "      <td>Rushcorp</td>\n",
       "      <td>0</td>\n",
       "    </tr>\n",
       "    <tr>\n",
       "      <th>4</th>\n",
       "      <td>5</td>\n",
       "      <td>MX-2012-155047</td>\n",
       "      <td>2012-10-15</td>\n",
       "      <td>20/10/2012</td>\n",
       "      <td>Standard Class</td>\n",
       "      <td>KW-16570</td>\n",
       "      <td>OFF-AR-10004594</td>\n",
       "      <td>Office Supplies</td>\n",
       "      <td>Art</td>\n",
       "      <td>Sanford Canvas, Water Color</td>\n",
       "      <td>...</td>\n",
       "      <td>Kelly Williams</td>\n",
       "      <td>Dos Quebradas</td>\n",
       "      <td>Risaralda</td>\n",
       "      <td>Colombia</td>\n",
       "      <td>NaN</td>\n",
       "      <td>Consumer</td>\n",
       "      <td>LATAM</td>\n",
       "      <td>LATAM-South</td>\n",
       "      <td>Low Tide Corp</td>\n",
       "      <td>0</td>\n",
       "    </tr>\n",
       "  </tbody>\n",
       "</table>\n",
       "<p>5 rows × 27 columns</p>\n",
       "</div>"
      ],
      "text/plain": [
       "   row_id        order_id order_date   ship_date       ship_mode customer_id  \\\n",
       "0       1  MX-2014-143658 2014-02-10  06/10/2014  Standard Class    SC-20575   \n",
       "1       2  MX-2012-155047 2012-10-15  20/10/2012  Standard Class    KW-16570   \n",
       "2       3  MX-2012-155047 2012-10-15  20/10/2012  Standard Class    KW-16570   \n",
       "3       4  MX-2012-155047 2012-10-15  20/10/2012  Standard Class    KW-16570   \n",
       "4       5  MX-2012-155047 2012-10-15  20/10/2012  Standard Class    KW-16570   \n",
       "\n",
       "        product_id         category sub_category  \\\n",
       "0  OFF-LA-10002782  Office Supplies       Labels   \n",
       "1  FUR-FU-10004015        Furniture  Furnishings   \n",
       "2  FUR-BO-10002352        Furniture    Bookcases   \n",
       "3  OFF-BI-10004428  Office Supplies      Binders   \n",
       "4  OFF-AR-10004594  Office Supplies          Art   \n",
       "\n",
       "                         product_name  ...   customer_name           city  \\\n",
       "0  Hon File Folder Labels, Adjustable  ...    Sonia Cooley    Mexico City   \n",
       "1                Tenex Clock, Durable  ...  Kelly Williams  Dos Quebradas   \n",
       "2        Ikea 3-Shelf Cabinet, Mobile  ...  Kelly Williams  Dos Quebradas   \n",
       "3              Cardinal Binder, Clear  ...  Kelly Williams  Dos Quebradas   \n",
       "4         Sanford Canvas, Water Color  ...  Kelly Williams  Dos Quebradas   \n",
       "\n",
       "              state   country  postal_code   segment market       region  \\\n",
       "0  Distrito Federal    Mexico          NaN  Consumer  LATAM  LATAM-North   \n",
       "1         Risaralda  Colombia          NaN  Consumer  LATAM  LATAM-South   \n",
       "2         Risaralda  Colombia          NaN  Consumer  LATAM  LATAM-South   \n",
       "3         Risaralda  Colombia          NaN  Consumer  LATAM  LATAM-South   \n",
       "4         Risaralda  Colombia          NaN  Consumer  LATAM  LATAM-South   \n",
       "\n",
       "            vendor weekend_orders  \n",
       "0          Accenco              0  \n",
       "1  Ace Corporation              0  \n",
       "2             Nero              0  \n",
       "3         Rushcorp              0  \n",
       "4    Low Tide Corp              0  \n",
       "\n",
       "[5 rows x 27 columns]"
      ]
     },
     "execution_count": 5,
     "metadata": {},
     "output_type": "execute_result"
    }
   ],
   "source": [
    "sales['weekend_orders'] = sales['order_date'].dt.day_name().map(lambda x: 1 if (x=='Saturday' or x =='Sunday') else 0)\n",
    "sales.head()"
   ]
  },
  {
   "cell_type": "code",
   "execution_count": 6,
   "metadata": {
    "deletable": false,
    "nbgrader": {
     "cell_type": "code",
     "checksum": "be1babac654c54c4ac61e7b6923eaf2e",
     "grade": false,
     "grade_id": "cell-da758c3c17ca0ef3",
     "locked": false,
     "schema_version": 3,
     "solution": true,
     "task": false
    }
   },
   "outputs": [
    {
     "data": {
      "text/plain": [
       "array([0, 1])"
      ]
     },
     "execution_count": 6,
     "metadata": {},
     "output_type": "execute_result"
    }
   ],
   "source": [
    "def weekend_flag(data):\n",
    "    # your code here\n",
    "    data['weekend_orders'] = data['order_date'].dt.day_name().map(lambda x: 1 if (x=='Saturday' or x =='Sunday') else 0)\n",
    "    return data['weekend_orders']\n",
    "    \n",
    "weekend_flag(data=sales.copy()).unique()"
   ]
  },
  {
   "cell_type": "code",
   "execution_count": 7,
   "metadata": {
    "deletable": false,
    "editable": false,
    "nbgrader": {
     "cell_type": "code",
     "checksum": "561e9234baa3650bf2b493de38bbc08b",
     "grade": false,
     "grade_id": "cell-bb6f0475fbd0bab4",
     "locked": true,
     "schema_version": 3,
     "solution": false,
     "task": false
    }
   },
   "outputs": [],
   "source": [
    "sales['weekend_orders']=weekend_flag(data=sales)"
   ]
  },
  {
   "cell_type": "code",
   "execution_count": 8,
   "metadata": {
    "deletable": false,
    "editable": false,
    "nbgrader": {
     "cell_type": "code",
     "checksum": "b7b3c1c7bd6dacba32dab07ea694e39d",
     "grade": true,
     "grade_id": "cell-12c0ef94c14c3ef0",
     "locked": true,
     "points": 7,
     "schema_version": 3,
     "solution": false,
     "task": false
    }
   },
   "outputs": [],
   "source": [
    "# autograder cell , please do not alter/ delete /edit this cell,Kindly ignore this cell.\n",
    "assert all(sales['weekend_orders'].unique()==np.array([0, 1])) ,'Make sure that you have created flag correctly'\n"
   ]
  },
  {
   "cell_type": "markdown",
   "metadata": {
    "deletable": false,
    "editable": false,
    "nbgrader": {
     "cell_type": "markdown",
     "checksum": "fbffc5d6f18565d556e322491b041b57",
     "grade": false,
     "grade_id": "cell-92abb7f69b91b506",
     "locked": true,
     "schema_version": 3,
     "solution": false,
     "task": false
    }
   },
   "source": [
    "### Q.2) We wish to create a feature called 'discount_per_quantity'. Write a functional code to compute ratio of 2 columns. Return  the output series."
   ]
  },
  {
   "cell_type": "code",
   "execution_count": 9,
   "metadata": {},
   "outputs": [
    {
     "data": {
      "text/plain": [
       "Index(['row_id', 'order_id', 'order_date', 'ship_date', 'ship_mode',\n",
       "       'customer_id', 'product_id', 'category', 'sub_category', 'product_name',\n",
       "       'sales', 'quantity', 'discount', 'profit', 'shipping_cost',\n",
       "       'order_priority', 'vendor_code', 'customer_name', 'city', 'state',\n",
       "       'country', 'postal_code', 'segment', 'market', 'region', 'vendor',\n",
       "       'weekend_orders'],\n",
       "      dtype='object')"
      ]
     },
     "execution_count": 9,
     "metadata": {},
     "output_type": "execute_result"
    }
   ],
   "source": [
    "sales.columns"
   ]
  },
  {
   "cell_type": "code",
   "execution_count": 10,
   "metadata": {},
   "outputs": [
    {
     "data": {
      "text/plain": [
       "32064    0.100000\n",
       "19277    0.000000\n",
       "38374    0.022222\n",
       "2727     0.000000\n",
       "6144     0.001000\n",
       "dtype: float64"
      ]
     },
     "execution_count": 10,
     "metadata": {},
     "output_type": "execute_result"
    }
   ],
   "source": [
    "sales.apply(lambda row: row['discount']/row['quantity'],axis=1).sample(100).head(5)"
   ]
  },
  {
   "cell_type": "code",
   "execution_count": 11,
   "metadata": {
    "deletable": false,
    "nbgrader": {
     "cell_type": "code",
     "checksum": "1a4553dfa1605ae8c0cc97c832678452",
     "grade": false,
     "grade_id": "cell-bf222819379099c4",
     "locked": false,
     "schema_version": 3,
     "solution": true,
     "task": false
    }
   },
   "outputs": [],
   "source": [
    "def feature_1(data,col1,col2):\n",
    "    # your code here\n",
    "    col3 = data.apply(lambda row: row[col1]/row[col2],axis=1)\n",
    "    return col3"
   ]
  },
  {
   "cell_type": "code",
   "execution_count": 12,
   "metadata": {
    "deletable": false,
    "editable": false,
    "nbgrader": {
     "cell_type": "code",
     "checksum": "e3952efb9c9a5e72965053d005b24e6a",
     "grade": false,
     "grade_id": "cell-fdf019e6c20aa45e",
     "locked": true,
     "schema_version": 3,
     "solution": false,
     "task": false
    }
   },
   "outputs": [],
   "source": [
    "sales['discount_per_quantity']= feature_1(data=sales,col1='discount',col2='quantity')"
   ]
  },
  {
   "cell_type": "code",
   "execution_count": 13,
   "metadata": {
    "deletable": false,
    "editable": false,
    "nbgrader": {
     "cell_type": "code",
     "checksum": "eef990a45921580d13ec0179efa3491d",
     "grade": true,
     "grade_id": "cell-1d1c9c0070ebdf4e",
     "locked": true,
     "points": 7,
     "schema_version": 3,
     "solution": false,
     "task": false
    }
   },
   "outputs": [],
   "source": [
    "# autograder cell , please do not alter/ delete /edit this cell,Kindly ignore this cell.\n",
    "assert round(sales['discount_per_quantity'].mean(),4)==0.0643,'Make sure that you have created feature correctly.'\n"
   ]
  },
  {
   "cell_type": "markdown",
   "metadata": {
    "deletable": false,
    "editable": false,
    "nbgrader": {
     "cell_type": "markdown",
     "checksum": "1dbe4251dfc38440a7048e4ac4092e7a",
     "grade": false,
     "grade_id": "cell-04ae737147acedb6",
     "locked": true,
     "schema_version": 3,
     "solution": false,
     "task": false
    }
   },
   "source": [
    "### Q.3) Create a feature for finding cumulative sales for every customer. Return  the output series."
   ]
  },
  {
   "cell_type": "code",
   "execution_count": 14,
   "metadata": {},
   "outputs": [
    {
     "data": {
      "text/plain": [
       "Index(['row_id', 'order_id', 'order_date', 'ship_date', 'ship_mode',\n",
       "       'customer_id', 'product_id', 'category', 'sub_category', 'product_name',\n",
       "       'sales', 'quantity', 'discount', 'profit', 'shipping_cost',\n",
       "       'order_priority', 'vendor_code', 'customer_name', 'city', 'state',\n",
       "       'country', 'postal_code', 'segment', 'market', 'region', 'vendor',\n",
       "       'weekend_orders', 'discount_per_quantity'],\n",
       "      dtype='object')"
      ]
     },
     "execution_count": 14,
     "metadata": {},
     "output_type": "execute_result"
    }
   ],
   "source": [
    "sales.columns"
   ]
  },
  {
   "cell_type": "code",
   "execution_count": 15,
   "metadata": {},
   "outputs": [
    {
     "data": {
      "text/html": [
       "<div>\n",
       "<style scoped>\n",
       "    .dataframe tbody tr th:only-of-type {\n",
       "        vertical-align: middle;\n",
       "    }\n",
       "\n",
       "    .dataframe tbody tr th {\n",
       "        vertical-align: top;\n",
       "    }\n",
       "\n",
       "    .dataframe thead th {\n",
       "        text-align: right;\n",
       "    }\n",
       "</style>\n",
       "<table border=\"1\" class=\"dataframe\">\n",
       "  <thead>\n",
       "    <tr style=\"text-align: right;\">\n",
       "      <th></th>\n",
       "      <th>customer_id</th>\n",
       "      <th>order_date</th>\n",
       "      <th>sales</th>\n",
       "    </tr>\n",
       "  </thead>\n",
       "  <tbody>\n",
       "    <tr>\n",
       "      <th>33525</th>\n",
       "      <td>AA-10315</td>\n",
       "      <td>2011-03-31</td>\n",
       "      <td>673.5680</td>\n",
       "    </tr>\n",
       "    <tr>\n",
       "      <th>33526</th>\n",
       "      <td>AA-10315</td>\n",
       "      <td>2011-03-31</td>\n",
       "      <td>52.9800</td>\n",
       "    </tr>\n",
       "    <tr>\n",
       "      <th>27383</th>\n",
       "      <td>AA-10315</td>\n",
       "      <td>2011-04-07</td>\n",
       "      <td>51.7110</td>\n",
       "    </tr>\n",
       "    <tr>\n",
       "      <th>27384</th>\n",
       "      <td>AA-10315</td>\n",
       "      <td>2011-04-07</td>\n",
       "      <td>44.9295</td>\n",
       "    </tr>\n",
       "    <tr>\n",
       "      <th>27385</th>\n",
       "      <td>AA-10315</td>\n",
       "      <td>2011-04-07</td>\n",
       "      <td>29.2380</td>\n",
       "    </tr>\n",
       "    <tr>\n",
       "      <th>27386</th>\n",
       "      <td>AA-10315</td>\n",
       "      <td>2011-04-07</td>\n",
       "      <td>278.8500</td>\n",
       "    </tr>\n",
       "    <tr>\n",
       "      <th>38764</th>\n",
       "      <td>AA-10315</td>\n",
       "      <td>2011-09-15</td>\n",
       "      <td>14.9400</td>\n",
       "    </tr>\n",
       "    <tr>\n",
       "      <th>38765</th>\n",
       "      <td>AA-10315</td>\n",
       "      <td>2011-09-15</td>\n",
       "      <td>14.5600</td>\n",
       "    </tr>\n",
       "    <tr>\n",
       "      <th>7997</th>\n",
       "      <td>AA-10315</td>\n",
       "      <td>2011-11-24</td>\n",
       "      <td>339.3600</td>\n",
       "    </tr>\n",
       "    <tr>\n",
       "      <th>7998</th>\n",
       "      <td>AA-10315</td>\n",
       "      <td>2011-11-24</td>\n",
       "      <td>9.0600</td>\n",
       "    </tr>\n",
       "  </tbody>\n",
       "</table>\n",
       "</div>"
      ],
      "text/plain": [
       "      customer_id order_date     sales\n",
       "33525    AA-10315 2011-03-31  673.5680\n",
       "33526    AA-10315 2011-03-31   52.9800\n",
       "27383    AA-10315 2011-04-07   51.7110\n",
       "27384    AA-10315 2011-04-07   44.9295\n",
       "27385    AA-10315 2011-04-07   29.2380\n",
       "27386    AA-10315 2011-04-07  278.8500\n",
       "38764    AA-10315 2011-09-15   14.9400\n",
       "38765    AA-10315 2011-09-15   14.5600\n",
       "7997     AA-10315 2011-11-24  339.3600\n",
       "7998     AA-10315 2011-11-24    9.0600"
      ]
     },
     "execution_count": 15,
     "metadata": {},
     "output_type": "execute_result"
    }
   ],
   "source": [
    "data = sales.sort_values(['customer_id','order_date'],ascending=[1,1],inplace=True)\n",
    "data = sales[['customer_id','order_date','sales']]\n",
    "data.head(10)"
   ]
  },
  {
   "cell_type": "code",
   "execution_count": 16,
   "metadata": {},
   "outputs": [
    {
     "data": {
      "text/plain": [
       "33525     673.5680\n",
       "33526     726.5480\n",
       "27383     778.2590\n",
       "27384     823.1885\n",
       "27385     852.4265\n",
       "           ...    \n",
       "39637    8100.9629\n",
       "20429    8546.2889\n",
       "15730    8762.2889\n",
       "15731    9350.3114\n",
       "15732    9479.3444\n",
       "Name: sales, Length: 51290, dtype: float64"
      ]
     },
     "execution_count": 16,
     "metadata": {},
     "output_type": "execute_result"
    }
   ],
   "source": [
    "temp = data.groupby(['customer_id'])['sales'].cumsum()\n",
    "temp"
   ]
  },
  {
   "cell_type": "code",
   "execution_count": 17,
   "metadata": {
    "deletable": false,
    "nbgrader": {
     "cell_type": "code",
     "checksum": "69e435bdc1ceddfdb8f8c7fd5b067e6d",
     "grade": false,
     "grade_id": "cell-23b8a0fddaa72e30",
     "locked": false,
     "schema_version": 3,
     "solution": true,
     "task": false
    }
   },
   "outputs": [],
   "source": [
    "def cumulative_sales(data):\n",
    "    # your code here\n",
    "    data.sort_values(['customer_id','order_date'],ascending=[1,1],inplace=True)\n",
    "    return data.groupby(['customer_id'])['sales'].cumsum()"
   ]
  },
  {
   "cell_type": "code",
   "execution_count": 18,
   "metadata": {
    "deletable": false,
    "editable": false,
    "nbgrader": {
     "cell_type": "code",
     "checksum": "19dbda090f1c9bba93f2fef835d405d8",
     "grade": false,
     "grade_id": "cell-ce218cadc5b9b7b0",
     "locked": true,
     "schema_version": 3,
     "solution": false,
     "task": false
    }
   },
   "outputs": [],
   "source": [
    "### Sorting the dataframe wrto customer_id & order_date\n",
    "sales.sort_values(['customer_id','order_date'],ascending=[1,1],inplace=True)\n",
    "### Applying cumulative_sales function\n",
    "sales['cumulative_sales']=cumulative_sales(data=sales)"
   ]
  },
  {
   "cell_type": "code",
   "execution_count": 19,
   "metadata": {
    "deletable": false,
    "editable": false,
    "nbgrader": {
     "cell_type": "code",
     "checksum": "e06c34e321f5e2e4f28e0be7918ece13",
     "grade": true,
     "grade_id": "cell-f88f29cf32252ab7",
     "locked": true,
     "points": 10,
     "schema_version": 3,
     "solution": false,
     "task": false
    }
   },
   "outputs": [],
   "source": [
    "# autograder cell , please do not alter/ delete /edit this cell,Kindly ignore this cell.\n",
    "assert round(sales[sales['customer_id']=='ZC-21910']['cumulative_sales'].max(),2)==28472.82"
   ]
  },
  {
   "cell_type": "markdown",
   "metadata": {
    "deletable": false,
    "editable": false,
    "nbgrader": {
     "cell_type": "markdown",
     "checksum": "4128b1e3bd8a63733021c2a806f88dd0",
     "grade": false,
     "grade_id": "cell-edca82aa344fa2ed",
     "locked": true,
     "schema_version": 3,
     "solution": false,
     "task": false
    }
   },
   "source": [
    "### Q.4) Please demonstrate how to enhance a given dataset by introducing a new feature that records the frequency of same-day purchases made by each customer. The desired outcome should be a modified dataframe containing a variable named 'same_day_purchase_frequency' which accurately portrays the same-day purchase behavior of individual customers.\n",
    "\n",
    "\n",
    "Hint:\n",
    "\n",
    "1.Same_day_purchase_frequency will be the frequency of the orders made on same day. If customer 'ABC' has placed 2 orders on 2nd Jan 23 then 'same_day_purchase_frequency'for this customer for 2nd Jan 23 will be 2. This is still at Customer * Date level\n",
    "\n",
    "2.If customer  'ABC' has made say 10 such frequency transactions where frequency of same day purchase >1. Then'same_day_frequency_purchase' for customer will be 10. This is our final answer at Customer level.  "
   ]
  },
  {
   "cell_type": "code",
   "execution_count": 20,
   "metadata": {},
   "outputs": [
    {
     "data": {
      "text/html": [
       "<div>\n",
       "<style scoped>\n",
       "    .dataframe tbody tr th:only-of-type {\n",
       "        vertical-align: middle;\n",
       "    }\n",
       "\n",
       "    .dataframe tbody tr th {\n",
       "        vertical-align: top;\n",
       "    }\n",
       "\n",
       "    .dataframe thead th {\n",
       "        text-align: right;\n",
       "    }\n",
       "</style>\n",
       "<table border=\"1\" class=\"dataframe\">\n",
       "  <thead>\n",
       "    <tr style=\"text-align: right;\">\n",
       "      <th></th>\n",
       "      <th>row_id</th>\n",
       "      <th>order_id</th>\n",
       "      <th>order_date</th>\n",
       "      <th>ship_date</th>\n",
       "      <th>ship_mode</th>\n",
       "      <th>customer_id</th>\n",
       "      <th>product_id</th>\n",
       "      <th>category</th>\n",
       "      <th>sub_category</th>\n",
       "      <th>product_name</th>\n",
       "      <th>...</th>\n",
       "      <th>state</th>\n",
       "      <th>country</th>\n",
       "      <th>postal_code</th>\n",
       "      <th>segment</th>\n",
       "      <th>market</th>\n",
       "      <th>region</th>\n",
       "      <th>vendor</th>\n",
       "      <th>weekend_orders</th>\n",
       "      <th>discount_per_quantity</th>\n",
       "      <th>cumulative_sales</th>\n",
       "    </tr>\n",
       "  </thead>\n",
       "  <tbody>\n",
       "    <tr>\n",
       "      <th>33525</th>\n",
       "      <td>33526</td>\n",
       "      <td>CA-2011-128055</td>\n",
       "      <td>2011-03-31</td>\n",
       "      <td>05/04/2011</td>\n",
       "      <td>Standard Class</td>\n",
       "      <td>AA-10315</td>\n",
       "      <td>OFF-BI-10004390</td>\n",
       "      <td>Office Supplies</td>\n",
       "      <td>Binders</td>\n",
       "      <td>GBC DocuBind 200 Manual Binding Machine</td>\n",
       "      <td>...</td>\n",
       "      <td>Sinaloa</td>\n",
       "      <td>Mexico</td>\n",
       "      <td>NaN</td>\n",
       "      <td>Consumer</td>\n",
       "      <td>LATAM</td>\n",
       "      <td>LATAM-North</td>\n",
       "      <td>Lifoods</td>\n",
       "      <td>0</td>\n",
       "      <td>0.1</td>\n",
       "      <td>673.568</td>\n",
       "    </tr>\n",
       "    <tr>\n",
       "      <th>33526</th>\n",
       "      <td>33527</td>\n",
       "      <td>CA-2011-128055</td>\n",
       "      <td>2011-03-31</td>\n",
       "      <td>05/04/2011</td>\n",
       "      <td>Standard Class</td>\n",
       "      <td>AA-10315</td>\n",
       "      <td>OFF-AP-10002765</td>\n",
       "      <td>Office Supplies</td>\n",
       "      <td>Appliances</td>\n",
       "      <td>Fellowes Advanced Computer Series Surge Protec...</td>\n",
       "      <td>...</td>\n",
       "      <td>Sinaloa</td>\n",
       "      <td>Mexico</td>\n",
       "      <td>NaN</td>\n",
       "      <td>Consumer</td>\n",
       "      <td>LATAM</td>\n",
       "      <td>LATAM-North</td>\n",
       "      <td>Lifoods</td>\n",
       "      <td>0</td>\n",
       "      <td>0.0</td>\n",
       "      <td>726.548</td>\n",
       "    </tr>\n",
       "  </tbody>\n",
       "</table>\n",
       "<p>2 rows × 29 columns</p>\n",
       "</div>"
      ],
      "text/plain": [
       "       row_id        order_id order_date   ship_date       ship_mode  \\\n",
       "33525   33526  CA-2011-128055 2011-03-31  05/04/2011  Standard Class   \n",
       "33526   33527  CA-2011-128055 2011-03-31  05/04/2011  Standard Class   \n",
       "\n",
       "      customer_id       product_id         category sub_category  \\\n",
       "33525    AA-10315  OFF-BI-10004390  Office Supplies      Binders   \n",
       "33526    AA-10315  OFF-AP-10002765  Office Supplies   Appliances   \n",
       "\n",
       "                                            product_name  ...    state  \\\n",
       "33525            GBC DocuBind 200 Manual Binding Machine  ...  Sinaloa   \n",
       "33526  Fellowes Advanced Computer Series Surge Protec...  ...  Sinaloa   \n",
       "\n",
       "       country  postal_code   segment  market       region   vendor  \\\n",
       "33525   Mexico          NaN  Consumer   LATAM  LATAM-North  Lifoods   \n",
       "33526   Mexico          NaN  Consumer   LATAM  LATAM-North  Lifoods   \n",
       "\n",
       "      weekend_orders discount_per_quantity cumulative_sales  \n",
       "33525              0                   0.1          673.568  \n",
       "33526              0                   0.0          726.548  \n",
       "\n",
       "[2 rows x 29 columns]"
      ]
     },
     "execution_count": 20,
     "metadata": {},
     "output_type": "execute_result"
    }
   ],
   "source": [
    "sales.head(2)"
   ]
  },
  {
   "cell_type": "code",
   "execution_count": 21,
   "metadata": {},
   "outputs": [],
   "source": [
    "data = sales.copy()\n",
    "# Group by 'customer_id' and date, and count the orders, store count of orders in variable named 'order_count'\n",
    "order_counts = data.groupby(['customer_id','order_date']).agg({'order_id':'count'})\n",
    "order_counts = order_counts.reset_index().rename(columns={'order_id':'order_count'})\n",
    "                                                               \n",
    "# Filter for same-day purchases (order_count > 1)\n",
    "same_day_purchases = order_counts[order_counts['order_count'] > 1]\n",
    "\n",
    "# Group by 'customer_id' and calculate the same-day purchase frequency , name that column as 'same_day_purchase_frequency'\n",
    "same_day_purchase_frequency = same_day_purchases.groupby('customer_id')['order_count'].count()\n",
    "same_day_purchase_frequency = same_day_purchase_frequency.reset_index().rename(columns={'order_count':'same_day_purchase_frequency'})\n",
    "\n",
    "# Merge the result with the original DataFrame to add the same-day purchase frequency as a new column  \n",
    "data = pd.merge(data,same_day_purchase_frequency,on='customer_id',how='left').reset_index(drop=True)\n",
    "data.head()\n",
    "# Fill missing values with 0 (for customers with no same-day purchases)\n",
    "data['same_day_purchase_frequency'].fillna(0,inplace=True)"
   ]
  },
  {
   "cell_type": "code",
   "execution_count": 22,
   "metadata": {},
   "outputs": [
    {
     "data": {
      "text/plain": [
       "row_id                             0\n",
       "order_id                           0\n",
       "order_date                         0\n",
       "ship_date                          0\n",
       "ship_mode                       1570\n",
       "customer_id                        0\n",
       "product_id                         0\n",
       "category                           0\n",
       "sub_category                       0\n",
       "product_name                    1297\n",
       "sales                              0\n",
       "quantity                           0\n",
       "discount                           0\n",
       "profit                             0\n",
       "shipping_cost                      0\n",
       "order_priority                  1046\n",
       "vendor_code                        0\n",
       "customer_name                      0\n",
       "city                               0\n",
       "state                              0\n",
       "country                            0\n",
       "postal_code                    51290\n",
       "segment                            0\n",
       "market                             0\n",
       "region                             0\n",
       "vendor                             0\n",
       "weekend_orders                     0\n",
       "discount_per_quantity              0\n",
       "cumulative_sales                   0\n",
       "same_day_purchase_frequency        0\n",
       "dtype: int64"
      ]
     },
     "execution_count": 22,
     "metadata": {},
     "output_type": "execute_result"
    }
   ],
   "source": [
    "data.isnull().sum()"
   ]
  },
  {
   "cell_type": "code",
   "execution_count": 23,
   "metadata": {
    "deletable": false,
    "nbgrader": {
     "cell_type": "code",
     "checksum": "fdb2743d81b7f441c77e26e51ba40bac",
     "grade": false,
     "grade_id": "cell-11502c58370a30cb",
     "locked": false,
     "schema_version": 3,
     "solution": true,
     "task": false
    }
   },
   "outputs": [],
   "source": [
    "def same_day_purchase(data):\n",
    "    # your code here\n",
    "    \n",
    "    # Group by 'customer_id' and date, and count the orders, store count of orders in variable named 'order_count'\n",
    "    order_counts = data.groupby(['customer_id','order_date']).agg({'order_id':'count'})\n",
    "    order_counts = order_counts.reset_index().rename(columns={'order_id':'order_count'})\n",
    "\n",
    "    # Filter for same-day purchases (order_count > 1)\n",
    "    same_day_purchases = order_counts[order_counts['order_count'] > 1]\n",
    "\n",
    "    # Group by 'customer_id' and calculate the same-day purchase frequency , name that column as 'same_day_purchase_frequency'\n",
    "    same_day_purchase_frequency = same_day_purchases.groupby('customer_id')['order_count'].count()\n",
    "    same_day_purchase_frequency = same_day_purchase_frequency.reset_index().rename(columns={'order_count':'same_day_purchase_frequency'})\n",
    "\n",
    "    # Merge the result with the original DataFrame to add the same-day purchase frequency as a new column  \n",
    "    data = pd.merge(data,same_day_purchase_frequency,on='customer_id',how='left').reset_index(drop=True)\n",
    "    data.head()\n",
    "    # Fill missing values with 0 (for customers with no same-day purchases)\n",
    "    data['same_day_purchase_frequency'].fillna(0,inplace=True)\n",
    "\n",
    "    return data"
   ]
  },
  {
   "cell_type": "code",
   "execution_count": 24,
   "metadata": {
    "deletable": false,
    "editable": false,
    "nbgrader": {
     "cell_type": "code",
     "checksum": "b9485edecbbb7cf8550559814732b784",
     "grade": true,
     "grade_id": "cell-1a74a24a4da6dd2d",
     "locked": true,
     "points": 30,
     "schema_version": 3,
     "solution": false,
     "task": false
    }
   },
   "outputs": [],
   "source": [
    "sales_new=same_day_purchase(data=sales.copy())\n",
    "# autograder cell , please do not alter/ delete /edit this cell,Kindly ignore this cell.\n",
    "assert float(sales_new[sales_new['customer_id']=='ZC-11910']['same_day_purchase_frequency'].unique())==0,'Make sure that you have created variable correctly.'\n"
   ]
  },
  {
   "cell_type": "markdown",
   "metadata": {
    "deletable": false,
    "editable": false,
    "nbgrader": {
     "cell_type": "markdown",
     "checksum": "64022a5ba581da06b8e8c96ae268fb99",
     "grade": false,
     "grade_id": "cell-7bdd8d0b6ca47c10",
     "locked": true,
     "schema_version": 3,
     "solution": false,
     "task": false
    }
   },
   "source": [
    "### Q.5) Create a variable which will calculate weighted sales per market. Return  the output series.\n",
    "Weights for every market are :-'LATAM':1, 'EMEA':1.3, 'Africa':2.7, 'Canada':1.4, 'EU':2.8, 'APAC':3.5"
   ]
  },
  {
   "cell_type": "code",
   "execution_count": 25,
   "metadata": {},
   "outputs": [
    {
     "data": {
      "text/plain": [
       "array(['LATAM', 'EMEA', 'Africa', 'Canada', 'EU', 'APAC'], dtype=object)"
      ]
     },
     "execution_count": 25,
     "metadata": {},
     "output_type": "execute_result"
    }
   ],
   "source": [
    "sales.market.unique()"
   ]
  },
  {
   "cell_type": "code",
   "execution_count": 26,
   "metadata": {},
   "outputs": [
    {
     "data": {
      "text/html": [
       "<div>\n",
       "<style scoped>\n",
       "    .dataframe tbody tr th:only-of-type {\n",
       "        vertical-align: middle;\n",
       "    }\n",
       "\n",
       "    .dataframe tbody tr th {\n",
       "        vertical-align: top;\n",
       "    }\n",
       "\n",
       "    .dataframe thead th {\n",
       "        text-align: right;\n",
       "    }\n",
       "</style>\n",
       "<table border=\"1\" class=\"dataframe\">\n",
       "  <thead>\n",
       "    <tr style=\"text-align: right;\">\n",
       "      <th></th>\n",
       "      <th>sales</th>\n",
       "      <th>market</th>\n",
       "      <th>weighted_market_sales</th>\n",
       "    </tr>\n",
       "  </thead>\n",
       "  <tbody>\n",
       "    <tr>\n",
       "      <th>38284</th>\n",
       "      <td>1158.120</td>\n",
       "      <td>LATAM</td>\n",
       "      <td>1158.1200</td>\n",
       "    </tr>\n",
       "    <tr>\n",
       "      <th>5839</th>\n",
       "      <td>42.120</td>\n",
       "      <td>LATAM</td>\n",
       "      <td>42.1200</td>\n",
       "    </tr>\n",
       "    <tr>\n",
       "      <th>44690</th>\n",
       "      <td>91.989</td>\n",
       "      <td>Africa</td>\n",
       "      <td>248.3703</td>\n",
       "    </tr>\n",
       "    <tr>\n",
       "      <th>19997</th>\n",
       "      <td>311.472</td>\n",
       "      <td>LATAM</td>\n",
       "      <td>311.4720</td>\n",
       "    </tr>\n",
       "    <tr>\n",
       "      <th>45257</th>\n",
       "      <td>75.180</td>\n",
       "      <td>Africa</td>\n",
       "      <td>202.9860</td>\n",
       "    </tr>\n",
       "  </tbody>\n",
       "</table>\n",
       "</div>"
      ],
      "text/plain": [
       "          sales  market  weighted_market_sales\n",
       "38284  1158.120   LATAM              1158.1200\n",
       "5839     42.120   LATAM                42.1200\n",
       "44690    91.989  Africa               248.3703\n",
       "19997   311.472   LATAM               311.4720\n",
       "45257    75.180  Africa               202.9860"
      ]
     },
     "execution_count": 26,
     "metadata": {},
     "output_type": "execute_result"
    }
   ],
   "source": [
    "data = sales.copy()\n",
    "import pandas as pd\n",
    "import numpy as np\n",
    "\n",
    "data = data.assign(weighted_market_sales=lambda x: np.where(x['market'] == 'EMEA', x['sales']*1.3,\n",
    "                                                       np.where(x['market'] == 'Africa', x['sales']*2.7,\n",
    "                                                               np.where(x['market'] == 'Canada', x['sales']*1.4,\n",
    "                                                                       np.where(x['market'] == 'EU', x['sales']*2.8,\n",
    "                                                                               np.where(x['market'] == 'APAC', x['sales']*3.5,x['sales']))))))\n",
    "\n",
    "\n",
    "data[['sales','market','weighted_market_sales']].sample(500).head()"
   ]
  },
  {
   "cell_type": "code",
   "execution_count": 27,
   "metadata": {
    "deletable": false,
    "nbgrader": {
     "cell_type": "code",
     "checksum": "20c298d50c1a843850662da6f77a0f4f",
     "grade": false,
     "grade_id": "cell-47084e349b64bd0d",
     "locked": false,
     "schema_version": 3,
     "solution": true,
     "task": false
    }
   },
   "outputs": [],
   "source": [
    "def weighted_sales(data):\n",
    "    # Write a lambda function & apply it to dataframe.Kindly ignore raiseNotImplementError\n",
    "    # your code here\n",
    "    import pandas as pd\n",
    "    import numpy as np\n",
    "    data = data.assign(\n",
    "            weighted_market_sales=\n",
    "                lambda x: np.where(x['market'] == 'EMEA', x['sales']*1.3,\n",
    "                               np.where(x['market'] == 'Africa', x['sales']*2.7,\n",
    "                                       np.where(x['market'] == 'Canada', x['sales']*1.4,\n",
    "                                               np.where(x['market'] == 'EU', x['sales']*2.8,\n",
    "                                                       np.where(x['market'] == 'APAC', x['sales']*3.5,x['sales']))))))\n",
    "\n",
    "    return data['weighted_market_sales']"
   ]
  },
  {
   "cell_type": "code",
   "execution_count": 28,
   "metadata": {},
   "outputs": [
    {
     "data": {
      "text/plain": [
       "Index(['row_id', 'order_id', 'order_date', 'ship_date', 'ship_mode',\n",
       "       'customer_id', 'product_id', 'category', 'sub_category', 'product_name',\n",
       "       'sales', 'quantity', 'discount', 'profit', 'shipping_cost',\n",
       "       'order_priority', 'vendor_code', 'customer_name', 'city', 'state',\n",
       "       'country', 'postal_code', 'segment', 'market', 'region', 'vendor',\n",
       "       'weekend_orders', 'discount_per_quantity', 'cumulative_sales'],\n",
       "      dtype='object')"
      ]
     },
     "execution_count": 28,
     "metadata": {},
     "output_type": "execute_result"
    }
   ],
   "source": [
    "sales.columns"
   ]
  },
  {
   "cell_type": "code",
   "execution_count": 29,
   "metadata": {
    "deletable": false,
    "editable": false,
    "nbgrader": {
     "cell_type": "code",
     "checksum": "f027b99d898df5ff494ef6222aa01040",
     "grade": false,
     "grade_id": "cell-e9fad939365ebe57",
     "locked": true,
     "schema_version": 3,
     "solution": false,
     "task": false
    }
   },
   "outputs": [],
   "source": [
    "sales['weighted_market_sales']=weighted_sales(data=sales)"
   ]
  },
  {
   "cell_type": "code",
   "execution_count": 30,
   "metadata": {
    "deletable": false,
    "editable": false,
    "nbgrader": {
     "cell_type": "code",
     "checksum": "82d66c7c73edac8f37f383cbfc68fafc",
     "grade": true,
     "grade_id": "cell-389d62fab17c8c2f",
     "locked": true,
     "points": 10,
     "schema_version": 3,
     "solution": false,
     "task": false
    }
   },
   "outputs": [],
   "source": [
    "# autograder cell , please do not alter/ delete /edit this cell,Kindly ignore this cell.\n",
    "assert round(float(sales[(sales['market']=='Africa') & (round(sales['sales'],4)==58.83)]['weighted_market_sales'].unique()),2)==158.84, 'Make sure that ypu have created column correctly.'"
   ]
  },
  {
   "cell_type": "markdown",
   "metadata": {
    "deletable": false,
    "editable": false,
    "nbgrader": {
     "cell_type": "markdown",
     "checksum": "9afa77f2faa0eb29cbeb7b2c0dd9381d",
     "grade": false,
     "grade_id": "cell-257ca79e2212fc23",
     "locked": true,
     "schema_version": 3,
     "solution": false,
     "task": false
    }
   },
   "source": [
    "Most of the variables in our data are categorical in nature & for further anlysis purpose if we convert them by ordinal encoding or one hot encoding, we will be left with too many variables.\n",
    "If we have too many variables in the data , it might cause trouble in later stages like machine learning model building.\n",
    "1. Having too many variables can lead to overfitting and poor generalization to new data.\n",
    "2. It can make it difficult to analyze and interpret the data and identify the most important variables.\n",
    "3. It can increase computational complexity and time required to build and train a model.\n",
    "\n",
    "How to deal with this ?\n",
    "\n",
    "Wait , we have learned about **Principal component analysis** , we can leverage that method here for **dimensionality reduction.**"
   ]
  },
  {
   "cell_type": "markdown",
   "metadata": {
    "deletable": false,
    "editable": false,
    "nbgrader": {
     "cell_type": "markdown",
     "checksum": "63302da6ba845b2859f2cee3e5198f4d",
     "grade": false,
     "grade_id": "cell-532602ee41242bbd",
     "locked": true,
     "schema_version": 3,
     "solution": false,
     "task": false
    }
   },
   "source": [
    "### Q.6 ) Complete the following code for PCA implementation. Return the no of PC's required for capturing the 80% of variation, variance explained by the PC's ."
   ]
  },
  {
   "cell_type": "code",
   "execution_count": 60,
   "metadata": {},
   "outputs": [],
   "source": [
    "data = sales.copy()\n",
    "target=0.80\n",
    "\n",
    "# import numpy as np\n",
    "# from sklearn.preprocessing import OrdinalEncoder\n",
    "# priority = ['Lowest','Low','Medium','High','Critical','nan_val']\n",
    "# enc = OrdinalEncoder(categories=priority)\n",
    "# data['order_priority'].fillna('nan_val',inplace=True)\n",
    "\n",
    "\n",
    "# Treating ordinal variable ,\n",
    "# order_priority : 'Medium':2, 'Low':1, 'High':3, 'Critical':4 \n",
    "data['order_priority_encoded']=data['order_priority'].map(\n",
    "    lambda x: 2 if x=='Medium' else 1 if x=='Low' else 3 if x=='High' else 4 if x=='Critical' else x) # Write your code in place of None\n",
    "\n",
    "# Treating missing values\n",
    "# Impute the missing values in 'order_prioirty_encoded','ship_mode' by mode, \n",
    "data['order_priority_encoded']=data['order_priority_encoded'].fillna(data['order_priority_encoded'].mode()[0]) # Write your code in place of None\n",
    "data['ship_mode']=data['ship_mode'].fillna(data['ship_mode'].mode()[0]) # Write your code in place of None\n",
    "\n",
    "\n",
    "# Treating Nominal variables ,'ship_mode','category','sub_category' (while encoding them make sure to select k-1 dummy variables for a variable with k categories)\n",
    "data=pd.get_dummies(data,columns=['ship_mode','category','sub_category'], drop_first=True) # Write your code in place of None\n",
    "\n",
    "# Final data selection\n",
    "# Select all the variables with 'sales','quantity','discount','profit','shipping_cost','order_priority_encoded' & dummies in 'ship_mode','category','sub_category'.\n",
    "data_1=data[['sales','quantity','discount','profit','shipping_cost','order_priority_encoded','ship_mode_Same Day','ship_mode_Second Class','ship_mode_Standard Class','category_Office Supplies','category_Technology','sub_category_Appliances','sub_category_Art','sub_category_Binders','sub_category_Bookcases','sub_category_Chairs','sub_category_Copiers','sub_category_Envelopes','sub_category_Fasteners','sub_category_Furnishings','sub_category_Labels','sub_category_Machines','sub_category_Paper','sub_category_Phones','sub_category_Storage','sub_category_Supplies','sub_category_Tables']]\n",
    "\n",
    "\n",
    "# Standardize the data\n",
    "sc = StandardScaler()\n",
    "\n",
    "cols = ['sales','quantity','discount','profit','shipping_cost','order_priority_encoded']\n",
    "for col in cols:\n",
    "    data_1[col] = sc.fit_transform(data_1[col].values.reshape(-1,1)) # Write your code in place of None\n",
    "\n",
    "\n",
    "from sklearn.decomposition import PCA\n",
    "\n",
    "# Create a PCA instance    \n",
    "pca = PCA()\n",
    "\n",
    "# Fit PCA to the scaled data\n",
    "pca.fit(data_1) # Write your code in place of None\n",
    "\n",
    "#  Calculate cumulative explained variance\n",
    "explained_variance_ratio = pca.explained_variance_ratio_ # Write your code in place of None\n",
    "cumulative_variance = np.cumsum(explained_variance_ratio) # Write your code in place of None\n",
    "\n",
    "\n",
    "target_variation=target\n",
    "n_components = np.argmax(cumulative_variance >= target_variation) + 1\n",
    "\n",
    "\n",
    "# Excellent we got no of pcs which are required for capturing the target variation in the data\n",
    "\n",
    "### Fitting PCA again with no of pc's we got above.\n",
    "pca = PCA(n_components=n_components)\n",
    "\n",
    "# Fit PCA to the scaled data\n",
    "pca.fit(data_1) # Write your code in place of None\n",
    "\n",
    "#  Calculate cumulative explained variance\n",
    "explained_variance_ratio = pca.explained_variance_ratio_ # Write your code in place of None"
   ]
  },
  {
   "cell_type": "code",
   "execution_count": null,
   "metadata": {},
   "outputs": [],
   "source": []
  },
  {
   "cell_type": "code",
   "execution_count": 62,
   "metadata": {
    "deletable": false,
    "nbgrader": {
     "cell_type": "code",
     "checksum": "73f56d08b62547c5a91e2fa94ccef16b",
     "grade": false,
     "grade_id": "cell-033f0d1768c98329",
     "locked": false,
     "schema_version": 3,
     "solution": true,
     "task": false
    }
   },
   "outputs": [],
   "source": [
    "def PCA(data,target=0.80):\n",
    "    # your code here\n",
    "    \n",
    "    # Treating ordinal variable ,\n",
    "    # order_priority : 'Medium':2, 'Low':1, 'High':3, 'Critical':4 \n",
    "    data['order_priority_encoded']=data['order_priority'].map(\n",
    "        lambda x: 2 if x=='Medium' else 1 if x=='Low' else 3 if x=='High' else 4 if x=='Critical' else x) # Write your code in place of None\n",
    "\n",
    "    # Treating missing values\n",
    "    # Impute the missing values in 'order_prioirty_encoded','ship_mode' by mode, \n",
    "    data['order_priority_encoded']=data['order_priority_encoded'].fillna(data['order_priority_encoded'].mode()[0]) # Write your code in place of None\n",
    "    data['ship_mode']=data['ship_mode'].fillna(data['ship_mode'].mode()[0]) # Write your code in place of None\n",
    "\n",
    "\n",
    "    # Treating Nominal variables ,'ship_mode','category','sub_category' (while encoding them make sure to select k-1 dummy variables for a variable with k categories)\n",
    "    data=pd.get_dummies(data,columns=['ship_mode','category','sub_category'], drop_first=True) # Write your code in place of None\n",
    "\n",
    "    # Final data selection\n",
    "    # Select all the variables with 'sales','quantity','discount','profit','shipping_cost','order_priority_encoded' & dummies in 'ship_mode','category','sub_category'.\n",
    "    data_1=data[['sales','quantity','discount','profit','shipping_cost','order_priority_encoded','ship_mode_Same Day','ship_mode_Second Class','ship_mode_Standard Class','category_Office Supplies','category_Technology','sub_category_Appliances','sub_category_Art','sub_category_Binders','sub_category_Bookcases','sub_category_Chairs','sub_category_Copiers','sub_category_Envelopes','sub_category_Fasteners','sub_category_Furnishings','sub_category_Labels','sub_category_Machines','sub_category_Paper','sub_category_Phones','sub_category_Storage','sub_category_Supplies','sub_category_Tables']]\n",
    "\n",
    "\n",
    "    # Standardize the data\n",
    "    sc = StandardScaler()\n",
    "\n",
    "    cols = ['sales','quantity','discount','profit','shipping_cost','order_priority_encoded']\n",
    "    for col in cols:\n",
    "        data_1[col] = sc.fit_transform(data_1[col].values.reshape(-1,1)) # Write your code in place of None\n",
    "\n",
    "\n",
    "    from sklearn.decomposition import PCA\n",
    "\n",
    "    # Create a PCA instance    \n",
    "    pca = PCA()\n",
    "\n",
    "    # Fit PCA to the scaled data\n",
    "    pca.fit(data_1) # Write your code in place of None\n",
    "\n",
    "    #  Calculate cumulative explained variance\n",
    "    explained_variance_ratio = pca.explained_variance_ratio_ # Write your code in place of None\n",
    "    cumulative_variance = np.cumsum(explained_variance_ratio) # Write your code in place of None\n",
    "\n",
    "\n",
    "    target_variation=target\n",
    "    n_components = np.argmax(cumulative_variance >= target_variation) + 1\n",
    "\n",
    "\n",
    "    # Excellent we got no of pcs which are required for capturing the target variation in the data\n",
    "\n",
    "    ### Fitting PCA again with no of pc's we got above.\n",
    "    pca = PCA(n_components=n_components)\n",
    "\n",
    "    # Fit PCA to the scaled data\n",
    "    pca.fit(data_1) # Write your code in place of None\n",
    "\n",
    "    #  Calculate cumulative explained variance\n",
    "    explained_variance_ratio = pca.explained_variance_ratio_ # Write your code in place of None\n",
    "       \n",
    "    return n_components,explained_variance_ratio"
   ]
  },
  {
   "cell_type": "code",
   "execution_count": 63,
   "metadata": {},
   "outputs": [
    {
     "data": {
      "text/plain": [
       "[0.3012, 0.1487, 0.1395, 0.1094, 0.0724, 0.0413]"
      ]
     },
     "execution_count": 63,
     "metadata": {},
     "output_type": "execute_result"
    }
   ],
   "source": [
    "[round(x,4) for x in list(PCA(data=sales.copy())[1])]"
   ]
  },
  {
   "cell_type": "code",
   "execution_count": 64,
   "metadata": {
    "deletable": false,
    "editable": false,
    "nbgrader": {
     "cell_type": "code",
     "checksum": "1283ef2455ee18599ddbfc61cf61a6aa",
     "grade": true,
     "grade_id": "cell-095ce6ebc95af61e",
     "locked": true,
     "points": 30,
     "schema_version": 3,
     "solution": false,
     "task": false
    }
   },
   "outputs": [],
   "source": [
    "# autograder cell , please do not alter/ delete /edit this cell,Kindly ignore this cell.\n",
    "assert type(PCA(data=sales.copy())[0])==np.int64 , 'Number of components required for capturing target variation should be in integer format.'\n",
    "assert type(PCA(data=sales.copy())[1])==np.ndarray , 'Type of variation captured should be in an array format.'\n",
    "assert [round(x,4) for x in list(PCA(data=sales.copy())[1])][0]==0.3012, 'Make sure that you are returning correct values for output.'\n"
   ]
  },
  {
   "cell_type": "markdown",
   "metadata": {
    "deletable": false,
    "editable": false,
    "nbgrader": {
     "cell_type": "markdown",
     "checksum": "6de4b32f924ec7a62617b3570a32ecfa",
     "grade": false,
     "grade_id": "cell-99f83690c838e50a",
     "locked": true,
     "schema_version": 3,
     "solution": false,
     "task": false
    }
   },
   "source": [
    "### Q.7) How much variation was explained by 3rd principal component ? \n",
    "**Output should be rounded upto 4 digits**"
   ]
  },
  {
   "cell_type": "code",
   "execution_count": 65,
   "metadata": {
    "deletable": false,
    "nbgrader": {
     "cell_type": "code",
     "checksum": "6b1d6d3561148f2fb0ea58db6f853f08",
     "grade": false,
     "grade_id": "cell-d668bca10bcf9149",
     "locked": false,
     "schema_version": 3,
     "solution": true,
     "task": false
    }
   },
   "outputs": [],
   "source": [
    "def var_expl(variation_explained):\n",
    "    # Kindly ignore raiseNotImplementError   \n",
    "    # your code here\n",
    "    explained_variance_ratio = [round(x,4) for x in list(PCA(data=sales.copy())[1])]\n",
    "    return explained_variance_ratio[2]\n",
    "    "
   ]
  },
  {
   "cell_type": "code",
   "execution_count": null,
   "metadata": {
    "deletable": false,
    "editable": false,
    "nbgrader": {
     "cell_type": "code",
     "checksum": "c2b2d2a933ca3017b59536de505adc48",
     "grade": true,
     "grade_id": "cell-cf2fbc4c16e8ba3d",
     "locked": true,
     "points": 6,
     "schema_version": 3,
     "solution": false,
     "task": false
    }
   },
   "outputs": [],
   "source": [
    "# autograder cell , please do not alter/ delete /edit this cell,Kindly ignore this cell."
   ]
  }
 ],
 "metadata": {
  "kernelspec": {
   "display_name": "Python 3",
   "language": "python",
   "name": "python3"
  },
  "language_info": {
   "codemirror_mode": {
    "name": "ipython",
    "version": 3
   },
   "file_extension": ".py",
   "mimetype": "text/x-python",
   "name": "python",
   "nbconvert_exporter": "python",
   "pygments_lexer": "ipython3",
   "version": "3.7.6"
  }
 },
 "nbformat": 4,
 "nbformat_minor": 5
}
