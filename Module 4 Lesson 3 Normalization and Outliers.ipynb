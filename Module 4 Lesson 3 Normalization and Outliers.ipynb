{
 "cells": [
  {
   "cell_type": "markdown",
   "id": "090d6cf6",
   "metadata": {},
   "source": [
    "## Module 4: Data preprocessing\n",
    "- In the previous lesson, we discussed about transforming the data from categorical to numerical format, as a part of data preprocessing.\n",
    "- Here, we will learn about normalizing (or standardizing) the data and then about detecting and treating outliers. These are also the steps in data preprocessing."
   ]
  },
  {
   "cell_type": "markdown",
   "id": "8095674f",
   "metadata": {},
   "source": [
    "### Lesson 3: Understanding data normalization and outlier detection\n",
    "**Data Normalization:**\n",
    "- Data normalization refers to the process of bringing various attributes of the dataset into a similar consistent scale.\n",
    "- Normalization is particularly important when dealing with machine learning algorithms that are sensitive to the scale of input features. \n",
    "- By normalizing the data, you ensure that all features have similar scales, which can lead to better model performance and more stable training.\n",
    "- There are several normalization techniques like **min-max scaling, z-score scaling** etc., which we will discuss in detail in few upcoming lectures.\n",
    "- The choice of data normalization method depends on the characteristics of our data and the assumptions of the machine learning algorithm that we plan to use. \n",
    "- Experiment with different methods and assess their impact on our model's performance to determine the most appropriate normalization technique for our dataset.\n",
    "- **NOTE** that we usually normalize only the numerical data. Though we convert the categorical data into numerical format through encoding techniques, we do not consider such attributes for normlaization. \n",
    "\n",
    "**Why Normalize Data?**\n",
    "1. Distance-based Algorithms: For algorithms that rely on distances, like K-Means clustering or K-Nearest Neighbors, features with larger scales can dominate the outcome. Imagine trying to measure the distance between two points in a space where one axis represents age (0-100) and the other represents income (in thousands). The income feature would heavily influence the distance calculation.\n",
    "\n",
    "2. Gradient Descent: Algorithms using gradient descent, such as neural networks or logistic regression, can converge faster when features are on a similar scale.\n",
    "\n",
    "3. Regularization: In models that use regularization (like Ridge or Lasso regression), normalization ensures that all features contribute equally to the regularization penalty."
   ]
  },
  {
   "cell_type": "markdown",
   "id": "ee1d8c94",
   "metadata": {},
   "source": [
    "### Part 4.3.1  :  Bringing numeric data to the same scale - part I\n",
    "**Min-Max normalization:**\n",
    "- We will now discuss one of the important data normalization techniques called min-max normalization.\n",
    "- Min-Max scaling scales the data to a range between 0 and 1.\n",
    "- It is calclulated as:\n",
    "\n",
    "$$ X_{norm} = \\frac{X - X_{min}}{X_{max} - X_{min}} $$\n",
    "\n",
    "- Here, $X_{min}$ and $X_{max}$ are the minimum and maximum values of the attribute $X$ in the dataset. \n",
    "- Min-Max scaling is suitable for data with known bounds and when you want to preserve the relative relationships between data points.\n",
    "- Min-Max normalization may not be appropriate for data with outliers, as the presence of outliers can significantly affect the scaling. In such cases, you may consider robust scaling techniques or address outliers separately.\n",
    "\n"
   ]
  },
  {
   "cell_type": "markdown",
   "id": "361e6386",
   "metadata": {},
   "source": [
    "**Implementation:**\n",
    "- In the previous lesson, we have encoded our POS data, and the only numerical columns to be normalized are *Revenue* and *Units_sold*\n",
    "- As we know from our previous discussions that there are no outliers in these two columns. \n",
    "- So, min-max normalization is a good option to normalize these two columns. "
   ]
  },
  {
   "cell_type": "code",
   "execution_count": 1,
   "id": "0064b7a0",
   "metadata": {},
   "outputs": [],
   "source": [
    "# Import the required packages\n",
    "import pandas as pd\n",
    "import numpy as np\n",
    "import matplotlib.pyplot as plt\n",
    "import seaborn as sns\n",
    "import warnings\n",
    "\n",
    "# Suppress all warnings\n",
    "warnings.filterwarnings(\"ignore\")"
   ]
  },
  {
   "cell_type": "code",
   "execution_count": 2,
   "id": "f49f4f6c",
   "metadata": {},
   "outputs": [
    {
     "data": {
      "text/html": [
       "<div>\n",
       "<style scoped>\n",
       "    .dataframe tbody tr th:only-of-type {\n",
       "        vertical-align: middle;\n",
       "    }\n",
       "\n",
       "    .dataframe tbody tr th {\n",
       "        vertical-align: top;\n",
       "    }\n",
       "\n",
       "    .dataframe thead th {\n",
       "        text-align: right;\n",
       "    }\n",
       "</style>\n",
       "<table border=\"1\" class=\"dataframe\">\n",
       "  <thead>\n",
       "    <tr style=\"text-align: right;\">\n",
       "      <th></th>\n",
       "      <th>SKU ID</th>\n",
       "      <th>Sector</th>\n",
       "      <th>Category</th>\n",
       "      <th>Segment</th>\n",
       "      <th>Brand</th>\n",
       "      <th>Revenue($)</th>\n",
       "      <th>Units_sold</th>\n",
       "      <th>Page_traffic_equal_bin</th>\n",
       "      <th>Day</th>\n",
       "      <th>Month</th>\n",
       "      <th>Year</th>\n",
       "    </tr>\n",
       "  </thead>\n",
       "  <tbody>\n",
       "    <tr>\n",
       "      <th>0</th>\n",
       "      <td>18</td>\n",
       "      <td>2</td>\n",
       "      <td>6</td>\n",
       "      <td>18</td>\n",
       "      <td>5</td>\n",
       "      <td>0</td>\n",
       "      <td>0</td>\n",
       "      <td>0.0</td>\n",
       "      <td>1</td>\n",
       "      <td>5</td>\n",
       "      <td>2021</td>\n",
       "    </tr>\n",
       "    <tr>\n",
       "      <th>1</th>\n",
       "      <td>43</td>\n",
       "      <td>2</td>\n",
       "      <td>6</td>\n",
       "      <td>9</td>\n",
       "      <td>21</td>\n",
       "      <td>0</td>\n",
       "      <td>0</td>\n",
       "      <td>0.0</td>\n",
       "      <td>8</td>\n",
       "      <td>5</td>\n",
       "      <td>2021</td>\n",
       "    </tr>\n",
       "    <tr>\n",
       "      <th>2</th>\n",
       "      <td>57</td>\n",
       "      <td>2</td>\n",
       "      <td>6</td>\n",
       "      <td>9</td>\n",
       "      <td>11</td>\n",
       "      <td>0</td>\n",
       "      <td>0</td>\n",
       "      <td>0.0</td>\n",
       "      <td>8</td>\n",
       "      <td>1</td>\n",
       "      <td>2022</td>\n",
       "    </tr>\n",
       "    <tr>\n",
       "      <th>3</th>\n",
       "      <td>45</td>\n",
       "      <td>2</td>\n",
       "      <td>6</td>\n",
       "      <td>9</td>\n",
       "      <td>21</td>\n",
       "      <td>0</td>\n",
       "      <td>0</td>\n",
       "      <td>0.0</td>\n",
       "      <td>5</td>\n",
       "      <td>11</td>\n",
       "      <td>2022</td>\n",
       "    </tr>\n",
       "    <tr>\n",
       "      <th>4</th>\n",
       "      <td>50</td>\n",
       "      <td>2</td>\n",
       "      <td>6</td>\n",
       "      <td>9</td>\n",
       "      <td>11</td>\n",
       "      <td>0</td>\n",
       "      <td>0</td>\n",
       "      <td>0.0</td>\n",
       "      <td>10</td>\n",
       "      <td>12</td>\n",
       "      <td>2022</td>\n",
       "    </tr>\n",
       "  </tbody>\n",
       "</table>\n",
       "</div>"
      ],
      "text/plain": [
       "   SKU ID  Sector  Category  Segment  Brand  Revenue($)  Units_sold  \\\n",
       "0      18       2         6       18      5           0           0   \n",
       "1      43       2         6        9     21           0           0   \n",
       "2      57       2         6        9     11           0           0   \n",
       "3      45       2         6        9     21           0           0   \n",
       "4      50       2         6        9     11           0           0   \n",
       "\n",
       "   Page_traffic_equal_bin  Day  Month  Year  \n",
       "0                     0.0    1      5  2021  \n",
       "1                     0.0    8      5  2021  \n",
       "2                     0.0    8      1  2022  \n",
       "3                     0.0    5     11  2022  \n",
       "4                     0.0   10     12  2022  "
      ]
     },
     "execution_count": 2,
     "metadata": {},
     "output_type": "execute_result"
    }
   ],
   "source": [
    "#read the encoded data that we have saved in the previous lesson\n",
    "pos_data = pd.read_csv('POS_EncodedData.csv')\n",
    "pos_data.head()"
   ]
  },
  {
   "cell_type": "code",
   "execution_count": 3,
   "id": "ea558b0b",
   "metadata": {},
   "outputs": [
    {
     "data": {
      "text/html": [
       "<div>\n",
       "<style scoped>\n",
       "    .dataframe tbody tr th:only-of-type {\n",
       "        vertical-align: middle;\n",
       "    }\n",
       "\n",
       "    .dataframe tbody tr th {\n",
       "        vertical-align: top;\n",
       "    }\n",
       "\n",
       "    .dataframe thead th {\n",
       "        text-align: right;\n",
       "    }\n",
       "</style>\n",
       "<table border=\"1\" class=\"dataframe\">\n",
       "  <thead>\n",
       "    <tr style=\"text-align: right;\">\n",
       "      <th></th>\n",
       "      <th>SKU ID</th>\n",
       "      <th>Sector</th>\n",
       "      <th>Category</th>\n",
       "      <th>Segment</th>\n",
       "      <th>Brand</th>\n",
       "      <th>Revenue($)</th>\n",
       "      <th>Units_sold</th>\n",
       "      <th>Page_traffic_equal_bin</th>\n",
       "      <th>Day</th>\n",
       "      <th>Month</th>\n",
       "      <th>Year</th>\n",
       "      <th>Revenue($)_Scaled</th>\n",
       "      <th>Units_sold_Scaled</th>\n",
       "    </tr>\n",
       "  </thead>\n",
       "  <tbody>\n",
       "    <tr>\n",
       "      <th>0</th>\n",
       "      <td>18</td>\n",
       "      <td>2</td>\n",
       "      <td>6</td>\n",
       "      <td>18</td>\n",
       "      <td>5</td>\n",
       "      <td>0</td>\n",
       "      <td>0</td>\n",
       "      <td>0.0</td>\n",
       "      <td>1</td>\n",
       "      <td>5</td>\n",
       "      <td>2021</td>\n",
       "      <td>0.0</td>\n",
       "      <td>0.0</td>\n",
       "    </tr>\n",
       "    <tr>\n",
       "      <th>1</th>\n",
       "      <td>43</td>\n",
       "      <td>2</td>\n",
       "      <td>6</td>\n",
       "      <td>9</td>\n",
       "      <td>21</td>\n",
       "      <td>0</td>\n",
       "      <td>0</td>\n",
       "      <td>0.0</td>\n",
       "      <td>8</td>\n",
       "      <td>5</td>\n",
       "      <td>2021</td>\n",
       "      <td>0.0</td>\n",
       "      <td>0.0</td>\n",
       "    </tr>\n",
       "    <tr>\n",
       "      <th>2</th>\n",
       "      <td>57</td>\n",
       "      <td>2</td>\n",
       "      <td>6</td>\n",
       "      <td>9</td>\n",
       "      <td>11</td>\n",
       "      <td>0</td>\n",
       "      <td>0</td>\n",
       "      <td>0.0</td>\n",
       "      <td>8</td>\n",
       "      <td>1</td>\n",
       "      <td>2022</td>\n",
       "      <td>0.0</td>\n",
       "      <td>0.0</td>\n",
       "    </tr>\n",
       "    <tr>\n",
       "      <th>3</th>\n",
       "      <td>45</td>\n",
       "      <td>2</td>\n",
       "      <td>6</td>\n",
       "      <td>9</td>\n",
       "      <td>21</td>\n",
       "      <td>0</td>\n",
       "      <td>0</td>\n",
       "      <td>0.0</td>\n",
       "      <td>5</td>\n",
       "      <td>11</td>\n",
       "      <td>2022</td>\n",
       "      <td>0.0</td>\n",
       "      <td>0.0</td>\n",
       "    </tr>\n",
       "    <tr>\n",
       "      <th>4</th>\n",
       "      <td>50</td>\n",
       "      <td>2</td>\n",
       "      <td>6</td>\n",
       "      <td>9</td>\n",
       "      <td>11</td>\n",
       "      <td>0</td>\n",
       "      <td>0</td>\n",
       "      <td>0.0</td>\n",
       "      <td>10</td>\n",
       "      <td>12</td>\n",
       "      <td>2022</td>\n",
       "      <td>0.0</td>\n",
       "      <td>0.0</td>\n",
       "    </tr>\n",
       "  </tbody>\n",
       "</table>\n",
       "</div>"
      ],
      "text/plain": [
       "   SKU ID  Sector  Category  Segment  Brand  Revenue($)  Units_sold  \\\n",
       "0      18       2         6       18      5           0           0   \n",
       "1      43       2         6        9     21           0           0   \n",
       "2      57       2         6        9     11           0           0   \n",
       "3      45       2         6        9     21           0           0   \n",
       "4      50       2         6        9     11           0           0   \n",
       "\n",
       "   Page_traffic_equal_bin  Day  Month  Year  Revenue($)_Scaled  \\\n",
       "0                     0.0    1      5  2021                0.0   \n",
       "1                     0.0    8      5  2021                0.0   \n",
       "2                     0.0    8      1  2022                0.0   \n",
       "3                     0.0    5     11  2022                0.0   \n",
       "4                     0.0   10     12  2022                0.0   \n",
       "\n",
       "   Units_sold_Scaled  \n",
       "0                0.0  \n",
       "1                0.0  \n",
       "2                0.0  \n",
       "3                0.0  \n",
       "4                0.0  "
      ]
     },
     "execution_count": 3,
     "metadata": {},
     "output_type": "execute_result"
    }
   ],
   "source": [
    "#import the package\n",
    "from sklearn.preprocessing import MinMaxScaler\n",
    "\n",
    "#Save numerical columns in a list\n",
    "cnames = [\"Revenue($)\", \"Units_sold\"]\n",
    "sc = MinMaxScaler()\n",
    "\n",
    "#saving the scaled data in new columns\n",
    "for col in cnames:\n",
    "    pos_data[col+'_Scaled'] = sc.fit_transform(pos_data[col].values.reshape(-1,1))\n",
    "\n",
    "pos_data.head()"
   ]
  },
  {
   "cell_type": "code",
   "execution_count": 4,
   "id": "78e34fcc",
   "metadata": {},
   "outputs": [
    {
     "data": {
      "text/html": [
       "<div>\n",
       "<style scoped>\n",
       "    .dataframe tbody tr th:only-of-type {\n",
       "        vertical-align: middle;\n",
       "    }\n",
       "\n",
       "    .dataframe tbody tr th {\n",
       "        vertical-align: top;\n",
       "    }\n",
       "\n",
       "    .dataframe thead th {\n",
       "        text-align: right;\n",
       "    }\n",
       "</style>\n",
       "<table border=\"1\" class=\"dataframe\">\n",
       "  <thead>\n",
       "    <tr style=\"text-align: right;\">\n",
       "      <th></th>\n",
       "      <th>Revenue($)</th>\n",
       "      <th>Revenue($)_Scaled</th>\n",
       "      <th>Units_sold</th>\n",
       "      <th>Units_sold_Scaled</th>\n",
       "    </tr>\n",
       "  </thead>\n",
       "  <tbody>\n",
       "    <tr>\n",
       "      <th>count</th>\n",
       "      <td>31185.000000</td>\n",
       "      <td>31185.000000</td>\n",
       "      <td>31185.000000</td>\n",
       "      <td>31185.000000</td>\n",
       "    </tr>\n",
       "    <tr>\n",
       "      <th>mean</th>\n",
       "      <td>14386.877505</td>\n",
       "      <td>0.296197</td>\n",
       "      <td>702.274363</td>\n",
       "      <td>0.207405</td>\n",
       "    </tr>\n",
       "    <tr>\n",
       "      <th>std</th>\n",
       "      <td>13427.614446</td>\n",
       "      <td>0.276448</td>\n",
       "      <td>647.676402</td>\n",
       "      <td>0.191281</td>\n",
       "    </tr>\n",
       "    <tr>\n",
       "      <th>min</th>\n",
       "      <td>0.000000</td>\n",
       "      <td>0.000000</td>\n",
       "      <td>0.000000</td>\n",
       "      <td>0.000000</td>\n",
       "    </tr>\n",
       "    <tr>\n",
       "      <th>25%</th>\n",
       "      <td>0.000000</td>\n",
       "      <td>0.000000</td>\n",
       "      <td>0.000000</td>\n",
       "      <td>0.000000</td>\n",
       "    </tr>\n",
       "    <tr>\n",
       "      <th>50%</th>\n",
       "      <td>14952.000000</td>\n",
       "      <td>0.307832</td>\n",
       "      <td>765.000000</td>\n",
       "      <td>0.225930</td>\n",
       "    </tr>\n",
       "    <tr>\n",
       "      <th>75%</th>\n",
       "      <td>25670.000000</td>\n",
       "      <td>0.528494</td>\n",
       "      <td>1224.000000</td>\n",
       "      <td>0.361488</td>\n",
       "    </tr>\n",
       "    <tr>\n",
       "      <th>max</th>\n",
       "      <td>48572.000000</td>\n",
       "      <td>1.000000</td>\n",
       "      <td>3386.000000</td>\n",
       "      <td>1.000000</td>\n",
       "    </tr>\n",
       "  </tbody>\n",
       "</table>\n",
       "</div>"
      ],
      "text/plain": [
       "         Revenue($)  Revenue($)_Scaled    Units_sold  Units_sold_Scaled\n",
       "count  31185.000000       31185.000000  31185.000000       31185.000000\n",
       "mean   14386.877505           0.296197    702.274363           0.207405\n",
       "std    13427.614446           0.276448    647.676402           0.191281\n",
       "min        0.000000           0.000000      0.000000           0.000000\n",
       "25%        0.000000           0.000000      0.000000           0.000000\n",
       "50%    14952.000000           0.307832    765.000000           0.225930\n",
       "75%    25670.000000           0.528494   1224.000000           0.361488\n",
       "max    48572.000000           1.000000   3386.000000           1.000000"
      ]
     },
     "execution_count": 4,
     "metadata": {},
     "output_type": "execute_result"
    }
   ],
   "source": [
    "#look at the statistical features before and after scaling\n",
    "pos_data[[\"Revenue($)\",  \"Revenue($)_Scaled\",\"Units_sold\", \"Units_sold_Scaled\"]].describe()"
   ]
  },
  {
   "cell_type": "markdown",
   "id": "b1acc1fd",
   "metadata": {},
   "source": [
    "**Please note that the min-max scaling does not change the shape and the distribution of the data. It will just change the range of values.**\n",
    "\n",
    "**Look at the graphs given below to demonstrate this.**"
   ]
  },
  {
   "cell_type": "code",
   "execution_count": 5,
   "id": "83ad2a42",
   "metadata": {},
   "outputs": [
    {
     "data": {
      "image/png": "[encoded data removed]",
      "text/plain": [
       "<Figure size 1000x300 with 2 Axes>"
      ]
     },
     "metadata": {},
     "output_type": "display_data"
    }
   ],
   "source": [
    "fig, axes = plt.subplots(nrows=1, ncols=2, figsize=(10, 3))\n",
    "\n",
    "# Original Data\n",
    "axes[0].hist(pos_data['Revenue($)'], bins=30, color='blue', alpha=0.7)\n",
    "axes[0].set_title('Original Data')\n",
    "axes[0].grid(True)\n",
    "\n",
    "# Scaled Data\n",
    "axes[1].hist(pos_data['Revenue($)_Scaled'], bins=30, color='green', alpha=0.7)\n",
    "axes[1].set_title('Scaled Data')\n",
    "axes[1].grid(True)\n",
    "\n",
    "# plt.tight_layout()\n",
    "plt.show()"
   ]
  },
  {
   "cell_type": "code",
   "execution_count": 6,
   "id": "43bc69d1",
   "metadata": {},
   "outputs": [
    {
     "data": {
      "image/png": "[encoded data removed]",
      "text/plain": [
       "<Figure size 1000x300 with 2 Axes>"
      ]
     },
     "metadata": {},
     "output_type": "display_data"
    }
   ],
   "source": [
    "fig, axes = plt.subplots(nrows=1, ncols=2, figsize=(10, 3))\n",
    "\n",
    "# Original Data\n",
    "axes[0].boxplot([pos_data['Units_sold']])\n",
    "axes[0].set_title('Original Data')\n",
    "axes[0].grid(True)\n",
    "\n",
    "# Scaled Data\n",
    "axes[1].boxplot([pos_data['Units_sold_Scaled']])\n",
    "axes[1].set_title('Scaled Data')\n",
    "axes[1].grid(True)\n",
    "\n",
    "# plt.tight_layout()\n",
    "plt.show()"
   ]
  },
  {
   "cell_type": "markdown",
   "id": "b05b2d94",
   "metadata": {},
   "source": [
    "***Inference:***\n",
    "- Histogram and the box plots are the two ways to check the distribution of the data and the positioning of outliers before and after the data scaling.\n",
    "- From the above two graphs, we can make out that the the scaling has only changed the range of scale of the data, but the distribution of the data is intact. \n",
    "- This assures us that scaling will not change the properties of the data, and hence, it will not have any adverse affect on the model building."
   ]
  },
  {
   "cell_type": "code",
   "execution_count": null,
   "id": "a6f01706",
   "metadata": {},
   "outputs": [],
   "source": []
  },
  {
   "cell_type": "markdown",
   "id": "7b854bd5",
   "metadata": {},
   "source": [
    "### Part 4.3.2  :  Bringing numeric data to the same scale - part II\n",
    "**Z-score normalization:**\n",
    "- Z-score normalization, also known as standardization or zero-mean normalization, is a data preprocessing technique used to transform numerical data into a standard normal distribution with a mean (average) of 0 and a standard deviation of 1. \n",
    "- This technique scales and centers the data, making it suitable for machine learning algorithms that assume features are normally distributed or have similar scales.\n",
    "- It is calculated as:\n",
    "\n",
    "$$ X_{norm} = \\frac{X-\\mu}{\\sigma}$$\n",
    "\n",
    "- Here, $\\mu$ and $\\sigma$ are the mean and standard deviation of the attribute $X$.\n",
    "- Z-score standardization is suitable for data with unknown or varying bounds and when you want to center the data around the mean.\n",
    "- Note that, Z-score normalization assumes that the data is approximately normally distributed. If the data is significantly skewed or has outliers, we may need to consider alternative normalization or transformation techniques."
   ]
  },
  {
   "cell_type": "markdown",
   "id": "32cda71b",
   "metadata": {},
   "source": [
    "**Let us implement the z-scale normalization on the POS data**"
   ]
  },
  {
   "cell_type": "code",
   "execution_count": 7,
   "id": "2e4b78cb",
   "metadata": {},
   "outputs": [
    {
     "data": {
      "text/html": [
       "<div>\n",
       "<style scoped>\n",
       "    .dataframe tbody tr th:only-of-type {\n",
       "        vertical-align: middle;\n",
       "    }\n",
       "\n",
       "    .dataframe tbody tr th {\n",
       "        vertical-align: top;\n",
       "    }\n",
       "\n",
       "    .dataframe thead th {\n",
       "        text-align: right;\n",
       "    }\n",
       "</style>\n",
       "<table border=\"1\" class=\"dataframe\">\n",
       "  <thead>\n",
       "    <tr style=\"text-align: right;\">\n",
       "      <th></th>\n",
       "      <th>SKU ID</th>\n",
       "      <th>Sector</th>\n",
       "      <th>Category</th>\n",
       "      <th>Segment</th>\n",
       "      <th>Brand</th>\n",
       "      <th>Revenue($)</th>\n",
       "      <th>Units_sold</th>\n",
       "      <th>Page_traffic_equal_bin</th>\n",
       "      <th>Day</th>\n",
       "      <th>Month</th>\n",
       "      <th>Year</th>\n",
       "    </tr>\n",
       "  </thead>\n",
       "  <tbody>\n",
       "    <tr>\n",
       "      <th>0</th>\n",
       "      <td>18</td>\n",
       "      <td>2</td>\n",
       "      <td>6</td>\n",
       "      <td>18</td>\n",
       "      <td>5</td>\n",
       "      <td>0</td>\n",
       "      <td>0</td>\n",
       "      <td>0.0</td>\n",
       "      <td>1</td>\n",
       "      <td>5</td>\n",
       "      <td>2021</td>\n",
       "    </tr>\n",
       "    <tr>\n",
       "      <th>1</th>\n",
       "      <td>43</td>\n",
       "      <td>2</td>\n",
       "      <td>6</td>\n",
       "      <td>9</td>\n",
       "      <td>21</td>\n",
       "      <td>0</td>\n",
       "      <td>0</td>\n",
       "      <td>0.0</td>\n",
       "      <td>8</td>\n",
       "      <td>5</td>\n",
       "      <td>2021</td>\n",
       "    </tr>\n",
       "    <tr>\n",
       "      <th>2</th>\n",
       "      <td>57</td>\n",
       "      <td>2</td>\n",
       "      <td>6</td>\n",
       "      <td>9</td>\n",
       "      <td>11</td>\n",
       "      <td>0</td>\n",
       "      <td>0</td>\n",
       "      <td>0.0</td>\n",
       "      <td>8</td>\n",
       "      <td>1</td>\n",
       "      <td>2022</td>\n",
       "    </tr>\n",
       "    <tr>\n",
       "      <th>3</th>\n",
       "      <td>45</td>\n",
       "      <td>2</td>\n",
       "      <td>6</td>\n",
       "      <td>9</td>\n",
       "      <td>21</td>\n",
       "      <td>0</td>\n",
       "      <td>0</td>\n",
       "      <td>0.0</td>\n",
       "      <td>5</td>\n",
       "      <td>11</td>\n",
       "      <td>2022</td>\n",
       "    </tr>\n",
       "    <tr>\n",
       "      <th>4</th>\n",
       "      <td>50</td>\n",
       "      <td>2</td>\n",
       "      <td>6</td>\n",
       "      <td>9</td>\n",
       "      <td>11</td>\n",
       "      <td>0</td>\n",
       "      <td>0</td>\n",
       "      <td>0.0</td>\n",
       "      <td>10</td>\n",
       "      <td>12</td>\n",
       "      <td>2022</td>\n",
       "    </tr>\n",
       "  </tbody>\n",
       "</table>\n",
       "</div>"
      ],
      "text/plain": [
       "   SKU ID  Sector  Category  Segment  Brand  Revenue($)  Units_sold  \\\n",
       "0      18       2         6       18      5           0           0   \n",
       "1      43       2         6        9     21           0           0   \n",
       "2      57       2         6        9     11           0           0   \n",
       "3      45       2         6        9     21           0           0   \n",
       "4      50       2         6        9     11           0           0   \n",
       "\n",
       "   Page_traffic_equal_bin  Day  Month  Year  \n",
       "0                     0.0    1      5  2021  \n",
       "1                     0.0    8      5  2021  \n",
       "2                     0.0    8      1  2022  \n",
       "3                     0.0    5     11  2022  \n",
       "4                     0.0   10     12  2022  "
      ]
     },
     "execution_count": 7,
     "metadata": {},
     "output_type": "execute_result"
    }
   ],
   "source": [
    "#read the data\n",
    "pos_data = pd.read_csv('POS_EncodedData.csv')\n",
    "pos_data.head()"
   ]
  },
  {
   "cell_type": "code",
   "execution_count": 8,
   "id": "71529b24",
   "metadata": {},
   "outputs": [
    {
     "data": {
      "text/html": [
       "<div>\n",
       "<style scoped>\n",
       "    .dataframe tbody tr th:only-of-type {\n",
       "        vertical-align: middle;\n",
       "    }\n",
       "\n",
       "    .dataframe tbody tr th {\n",
       "        vertical-align: top;\n",
       "    }\n",
       "\n",
       "    .dataframe thead th {\n",
       "        text-align: right;\n",
       "    }\n",
       "</style>\n",
       "<table border=\"1\" class=\"dataframe\">\n",
       "  <thead>\n",
       "    <tr style=\"text-align: right;\">\n",
       "      <th></th>\n",
       "      <th>Revenue($)</th>\n",
       "      <th>Units_sold</th>\n",
       "    </tr>\n",
       "  </thead>\n",
       "  <tbody>\n",
       "    <tr>\n",
       "      <th>count</th>\n",
       "      <td>31185.000000</td>\n",
       "      <td>31185.000000</td>\n",
       "    </tr>\n",
       "    <tr>\n",
       "      <th>mean</th>\n",
       "      <td>14386.877505</td>\n",
       "      <td>702.274363</td>\n",
       "    </tr>\n",
       "    <tr>\n",
       "      <th>std</th>\n",
       "      <td>13427.614446</td>\n",
       "      <td>647.676402</td>\n",
       "    </tr>\n",
       "    <tr>\n",
       "      <th>min</th>\n",
       "      <td>0.000000</td>\n",
       "      <td>0.000000</td>\n",
       "    </tr>\n",
       "    <tr>\n",
       "      <th>25%</th>\n",
       "      <td>0.000000</td>\n",
       "      <td>0.000000</td>\n",
       "    </tr>\n",
       "    <tr>\n",
       "      <th>50%</th>\n",
       "      <td>14952.000000</td>\n",
       "      <td>765.000000</td>\n",
       "    </tr>\n",
       "    <tr>\n",
       "      <th>75%</th>\n",
       "      <td>25670.000000</td>\n",
       "      <td>1224.000000</td>\n",
       "    </tr>\n",
       "    <tr>\n",
       "      <th>max</th>\n",
       "      <td>48572.000000</td>\n",
       "      <td>3386.000000</td>\n",
       "    </tr>\n",
       "  </tbody>\n",
       "</table>\n",
       "</div>"
      ],
      "text/plain": [
       "         Revenue($)    Units_sold\n",
       "count  31185.000000  31185.000000\n",
       "mean   14386.877505    702.274363\n",
       "std    13427.614446    647.676402\n",
       "min        0.000000      0.000000\n",
       "25%        0.000000      0.000000\n",
       "50%    14952.000000    765.000000\n",
       "75%    25670.000000   1224.000000\n",
       "max    48572.000000   3386.000000"
      ]
     },
     "execution_count": 8,
     "metadata": {},
     "output_type": "execute_result"
    }
   ],
   "source": [
    "#look at the statistical features before  scaling\n",
    "pos_data[[\"Revenue($)\",  \"Units_sold\"]].describe()"
   ]
  },
  {
   "cell_type": "markdown",
   "id": "0bff14fb",
   "metadata": {},
   "source": [
    "**NOTE:**\n",
    "- If we need to compare the graphs of the attribute before and after scaling, we may need to save the scaled attribute as a new column.\n",
    "- However, for all the practical purposes, we will be replacing the existing columns with the scaled columns when we wish to go for model building.\n",
    "- In the below given example, the original columns are replaced by the scaled columns, and hence the *describe()* function is used to observe the statistical properties before and after the scaling. "
   ]
  },
  {
   "cell_type": "code",
   "execution_count": 9,
   "id": "b780580b",
   "metadata": {},
   "outputs": [
    {
     "data": {
      "text/html": [
       "<div>\n",
       "<style scoped>\n",
       "    .dataframe tbody tr th:only-of-type {\n",
       "        vertical-align: middle;\n",
       "    }\n",
       "\n",
       "    .dataframe tbody tr th {\n",
       "        vertical-align: top;\n",
       "    }\n",
       "\n",
       "    .dataframe thead th {\n",
       "        text-align: right;\n",
       "    }\n",
       "</style>\n",
       "<table border=\"1\" class=\"dataframe\">\n",
       "  <thead>\n",
       "    <tr style=\"text-align: right;\">\n",
       "      <th></th>\n",
       "      <th>SKU ID</th>\n",
       "      <th>Sector</th>\n",
       "      <th>Category</th>\n",
       "      <th>Segment</th>\n",
       "      <th>Brand</th>\n",
       "      <th>Revenue($)</th>\n",
       "      <th>Units_sold</th>\n",
       "      <th>Page_traffic_equal_bin</th>\n",
       "      <th>Day</th>\n",
       "      <th>Month</th>\n",
       "      <th>Year</th>\n",
       "    </tr>\n",
       "  </thead>\n",
       "  <tbody>\n",
       "    <tr>\n",
       "      <th>0</th>\n",
       "      <td>18</td>\n",
       "      <td>2</td>\n",
       "      <td>6</td>\n",
       "      <td>18</td>\n",
       "      <td>5</td>\n",
       "      <td>-1.071457</td>\n",
       "      <td>-1.084316</td>\n",
       "      <td>0.0</td>\n",
       "      <td>1</td>\n",
       "      <td>5</td>\n",
       "      <td>2021</td>\n",
       "    </tr>\n",
       "    <tr>\n",
       "      <th>1</th>\n",
       "      <td>43</td>\n",
       "      <td>2</td>\n",
       "      <td>6</td>\n",
       "      <td>9</td>\n",
       "      <td>21</td>\n",
       "      <td>-1.071457</td>\n",
       "      <td>-1.084316</td>\n",
       "      <td>0.0</td>\n",
       "      <td>8</td>\n",
       "      <td>5</td>\n",
       "      <td>2021</td>\n",
       "    </tr>\n",
       "    <tr>\n",
       "      <th>2</th>\n",
       "      <td>57</td>\n",
       "      <td>2</td>\n",
       "      <td>6</td>\n",
       "      <td>9</td>\n",
       "      <td>11</td>\n",
       "      <td>-1.071457</td>\n",
       "      <td>-1.084316</td>\n",
       "      <td>0.0</td>\n",
       "      <td>8</td>\n",
       "      <td>1</td>\n",
       "      <td>2022</td>\n",
       "    </tr>\n",
       "    <tr>\n",
       "      <th>3</th>\n",
       "      <td>45</td>\n",
       "      <td>2</td>\n",
       "      <td>6</td>\n",
       "      <td>9</td>\n",
       "      <td>21</td>\n",
       "      <td>-1.071457</td>\n",
       "      <td>-1.084316</td>\n",
       "      <td>0.0</td>\n",
       "      <td>5</td>\n",
       "      <td>11</td>\n",
       "      <td>2022</td>\n",
       "    </tr>\n",
       "    <tr>\n",
       "      <th>4</th>\n",
       "      <td>50</td>\n",
       "      <td>2</td>\n",
       "      <td>6</td>\n",
       "      <td>9</td>\n",
       "      <td>11</td>\n",
       "      <td>-1.071457</td>\n",
       "      <td>-1.084316</td>\n",
       "      <td>0.0</td>\n",
       "      <td>10</td>\n",
       "      <td>12</td>\n",
       "      <td>2022</td>\n",
       "    </tr>\n",
       "  </tbody>\n",
       "</table>\n",
       "</div>"
      ],
      "text/plain": [
       "   SKU ID  Sector  Category  Segment  Brand  Revenue($)  Units_sold  \\\n",
       "0      18       2         6       18      5   -1.071457   -1.084316   \n",
       "1      43       2         6        9     21   -1.071457   -1.084316   \n",
       "2      57       2         6        9     11   -1.071457   -1.084316   \n",
       "3      45       2         6        9     21   -1.071457   -1.084316   \n",
       "4      50       2         6        9     11   -1.071457   -1.084316   \n",
       "\n",
       "   Page_traffic_equal_bin  Day  Month  Year  \n",
       "0                     0.0    1      5  2021  \n",
       "1                     0.0    8      5  2021  \n",
       "2                     0.0    8      1  2022  \n",
       "3                     0.0    5     11  2022  \n",
       "4                     0.0   10     12  2022  "
      ]
     },
     "execution_count": 9,
     "metadata": {},
     "output_type": "execute_result"
    }
   ],
   "source": [
    "#import the package\n",
    "from sklearn.preprocessing import StandardScaler\n",
    "\n",
    "#Save numerical columns in a list\n",
    "cnames = [\"Revenue($)\", \"Units_sold\"]\n",
    "sc = StandardScaler()\n",
    "\n",
    "#saving the scaled data in the same columns\n",
    "for col in cnames:\n",
    "    pos_data[col] = sc.fit_transform(pos_data[col].values.reshape(-1,1))\n",
    "\n",
    "pos_data.head()"
   ]
  },
  {
   "cell_type": "code",
   "execution_count": 10,
   "id": "6a6fa8b9",
   "metadata": {},
   "outputs": [
    {
     "data": {
      "text/html": [
       "<div>\n",
       "<style scoped>\n",
       "    .dataframe tbody tr th:only-of-type {\n",
       "        vertical-align: middle;\n",
       "    }\n",
       "\n",
       "    .dataframe tbody tr th {\n",
       "        vertical-align: top;\n",
       "    }\n",
       "\n",
       "    .dataframe thead th {\n",
       "        text-align: right;\n",
       "    }\n",
       "</style>\n",
       "<table border=\"1\" class=\"dataframe\">\n",
       "  <thead>\n",
       "    <tr style=\"text-align: right;\">\n",
       "      <th></th>\n",
       "      <th>Revenue($)</th>\n",
       "      <th>Units_sold</th>\n",
       "    </tr>\n",
       "  </thead>\n",
       "  <tbody>\n",
       "    <tr>\n",
       "      <th>count</th>\n",
       "      <td>3.118500e+04</td>\n",
       "      <td>3.118500e+04</td>\n",
       "    </tr>\n",
       "    <tr>\n",
       "      <th>mean</th>\n",
       "      <td>-7.199984e-17</td>\n",
       "      <td>-4.101257e-17</td>\n",
       "    </tr>\n",
       "    <tr>\n",
       "      <th>std</th>\n",
       "      <td>1.000016e+00</td>\n",
       "      <td>1.000016e+00</td>\n",
       "    </tr>\n",
       "    <tr>\n",
       "      <th>min</th>\n",
       "      <td>-1.071457e+00</td>\n",
       "      <td>-1.084316e+00</td>\n",
       "    </tr>\n",
       "    <tr>\n",
       "      <th>25%</th>\n",
       "      <td>-1.071457e+00</td>\n",
       "      <td>-1.084316e+00</td>\n",
       "    </tr>\n",
       "    <tr>\n",
       "      <th>50%</th>\n",
       "      <td>4.208726e-02</td>\n",
       "      <td>9.684874e-02</td>\n",
       "    </tr>\n",
       "    <tr>\n",
       "      <th>75%</th>\n",
       "      <td>8.403059e-01</td>\n",
       "      <td>8.055473e-01</td>\n",
       "    </tr>\n",
       "    <tr>\n",
       "      <th>max</th>\n",
       "      <td>2.545923e+00</td>\n",
       "      <td>4.143688e+00</td>\n",
       "    </tr>\n",
       "  </tbody>\n",
       "</table>\n",
       "</div>"
      ],
      "text/plain": [
       "         Revenue($)    Units_sold\n",
       "count  3.118500e+04  3.118500e+04\n",
       "mean  -7.199984e-17 -4.101257e-17\n",
       "std    1.000016e+00  1.000016e+00\n",
       "min   -1.071457e+00 -1.084316e+00\n",
       "25%   -1.071457e+00 -1.084316e+00\n",
       "50%    4.208726e-02  9.684874e-02\n",
       "75%    8.403059e-01  8.055473e-01\n",
       "max    2.545923e+00  4.143688e+00"
      ]
     },
     "execution_count": 10,
     "metadata": {},
     "output_type": "execute_result"
    }
   ],
   "source": [
    "#look at the statistical features after scaling\n",
    "pos_data[[\"Revenue($)\",  \"Units_sold\"]].describe()"
   ]
  },
  {
   "cell_type": "markdown",
   "id": "2d8dc752",
   "metadata": {},
   "source": [
    "***Inferences:***\n",
    "- We can observes that the scale of the data got changed here as well.\n",
    "- One can plot the histogram and box plot to confirm that there will not be any change in the distribution of the data."
   ]
  },
  {
   "cell_type": "code",
   "execution_count": null,
   "id": "f75c0d6d",
   "metadata": {},
   "outputs": [],
   "source": []
  },
  {
   "cell_type": "markdown",
   "id": "0c96ebb9",
   "metadata": {},
   "source": [
    "### Part 4.3.3  : Other types of transformations\n",
    "- The datasets of real wold problems often comes with their unique challenges. \n",
    "- At times, the data may exhibit significant skewness. \n",
    "- While the usual scaling techniques adjust the range of data values, they may not always address these underlying complexities. - This is where advanced transformations, such as robust scaling, logarithmic & polynomial transformations step in to offer tailored solutions to specific data challenges.\n",
    "\n",
    "**Robust Scaling:**\n",
    "- Robust scaling is similar to Min-Max scaling but is less affected by outliers.\n",
    "- It scales data to a specified range, typically between 0 and 1, using the interquartile range (IQR) instead of the min-max range.\n",
    "- Robust scaling is useful when your data contains outliers that can distort the scaling.\n",
    "- In python, we can use **RobustScaler** from **sklearn.preprocessing** to implement robust scaling. \n",
    "\n",
    "**Log Transformations:**\n",
    "- Log transformation applies a logarithmic function to the data, which can help reduce the impact of skewness in the data.\n",
    "- It is used when data is highly skewed and you want to make it more symmetric.\n",
    "- Log transformation is commonly applied to positive data with a wide range of values.\n",
    "- It involves taking the logarithm (typically the natural logarithm, base e) of each data point. \n",
    "- The calculation is:\n",
    "\n",
    "$$ Y = log_{e}X $$\n",
    "\n",
    "- Here, $X$ is original data and $Y$ is a scaled data.\n",
    "- Log transformation is particularly useful for the following scenarios:\n",
    "    - Reducing Skewness: When data is highly skewed (positively or negatively), log transformation can make the distribution more symmetric and closer to a normal distribution. This can be important for statistical analyses and modeling, as many statistical techniques assume normally distributed data.\n",
    "    - Stabilizing Variance: In some cases, the variance of data points increases with their magnitude. Log transformation can help stabilize the variance, making it more consistent across the data range.\n",
    "    - Linearizing Relationships: In cases where there is a multiplicative relationship between variables, taking the logarithm can linearize the relationship, making it easier to analyze and model.\n",
    "- In Python, we use **log** function from **numpy** package to convert a value into its logarithmic format. \n",
    "- It's important to note that log transformation is applicable only to data with positive values since the logarithm of zero or negative numbers is undefined. \n",
    "- Additionally, when working with log-transformed data, it is common to back-transform the results if necessary to interpret them in the original scale. \n",
    "- This involves taking the antilogarithm, which can be done using the exponential function - **numpy.exp()** in Python.\n",
    "\n",
    "**Other Custom Scaling Techniques:**\n",
    "- Depending on our data and domain, we may develop custom scaling techniques that suit our specific requirements. \n",
    "- We can create a custom scaling function that takes the original data as input and returns the scaled or transformed data. \n",
    "- This function can be designed based on our knowledge of the data distribution, characteristics, or specific goals.\n",
    "- Custom scaling can involve transformations like square root, exponential, or other mathematical functions.\n",
    "- Custom scaling can be particularly useful in scenarios where our data exhibits unique patterns, nonlinear relationships, or specific domain knowledge that isn't adequately addressed by standard scaling techniques. \n",
    "- When using custom scaling, it is essential to document and justify our approach, as it may not be as widely recognized or interpretable as standard scaling methods."
   ]
  },
  {
   "cell_type": "markdown",
   "id": "7eb83ffd",
   "metadata": {},
   "source": [
    "**Let us implement the log transformation on the attributes of Online data, in which few attributes are skewed. We will also observe how log transformation modifies the distribution of the data as well.**"
   ]
  },
  {
   "cell_type": "code",
   "execution_count": 11,
   "id": "16f736fa",
   "metadata": {},
   "outputs": [
    {
     "data": {
      "text/html": [
       "<div>\n",
       "<style scoped>\n",
       "    .dataframe tbody tr th:only-of-type {\n",
       "        vertical-align: middle;\n",
       "    }\n",
       "\n",
       "    .dataframe tbody tr th {\n",
       "        vertical-align: top;\n",
       "    }\n",
       "\n",
       "    .dataframe thead th {\n",
       "        text-align: right;\n",
       "    }\n",
       "</style>\n",
       "<table border=\"1\" class=\"dataframe\">\n",
       "  <thead>\n",
       "    <tr style=\"text-align: right;\">\n",
       "      <th></th>\n",
       "      <th>SKU ID</th>\n",
       "      <th>Date</th>\n",
       "      <th>Online_Clicks</th>\n",
       "      <th>Online_Cost</th>\n",
       "      <th>Online_Impressions</th>\n",
       "    </tr>\n",
       "  </thead>\n",
       "  <tbody>\n",
       "    <tr>\n",
       "      <th>0</th>\n",
       "      <td>SKU1029</td>\n",
       "      <td>05-01-21</td>\n",
       "      <td>474</td>\n",
       "      <td>1678.909243</td>\n",
       "      <td>53917</td>\n",
       "    </tr>\n",
       "    <tr>\n",
       "      <th>1</th>\n",
       "      <td>SKU1054</td>\n",
       "      <td>05-08-21</td>\n",
       "      <td>1093</td>\n",
       "      <td>7198.857206</td>\n",
       "      <td>178173</td>\n",
       "    </tr>\n",
       "    <tr>\n",
       "      <th>2</th>\n",
       "      <td>SKU1056</td>\n",
       "      <td>11-05-22</td>\n",
       "      <td>1041</td>\n",
       "      <td>5606.850110</td>\n",
       "      <td>224078</td>\n",
       "    </tr>\n",
       "    <tr>\n",
       "      <th>3</th>\n",
       "      <td>SKU1019</td>\n",
       "      <td>3/20/2021</td>\n",
       "      <td>965</td>\n",
       "      <td>4189.187114</td>\n",
       "      <td>191202</td>\n",
       "    </tr>\n",
       "    <tr>\n",
       "      <th>4</th>\n",
       "      <td>SKU1021</td>\n",
       "      <td>04-09-22</td>\n",
       "      <td>860</td>\n",
       "      <td>2890.776596</td>\n",
       "      <td>212875</td>\n",
       "    </tr>\n",
       "  </tbody>\n",
       "</table>\n",
       "</div>"
      ],
      "text/plain": [
       "    SKU ID       Date  Online_Clicks  Online_Cost  Online_Impressions\n",
       "0  SKU1029   05-01-21            474  1678.909243               53917\n",
       "1  SKU1054   05-08-21           1093  7198.857206              178173\n",
       "2  SKU1056   11-05-22           1041  5606.850110              224078\n",
       "3  SKU1019  3/20/2021            965  4189.187114              191202\n",
       "4  SKU1021   04-09-22            860  2890.776596              212875"
      ]
     },
     "execution_count": 11,
     "metadata": {},
     "output_type": "execute_result"
    }
   ],
   "source": [
    "online_data=pd.read_csv('Online_Data.csv')\n",
    "online_data.head()"
   ]
  },
  {
   "cell_type": "code",
   "execution_count": 12,
   "id": "a08b942a",
   "metadata": {},
   "outputs": [
    {
     "name": "stdout",
     "output_type": "stream",
     "text": [
      "Skewness of Online_Clicks: 1.0716\n",
      "Skewness of Online_Cost: 1.5689\n",
      "Skewness of Online_Impressions: 1.5221\n"
     ]
    }
   ],
   "source": [
    "#check the skewness of the values\n",
    "print('Skewness of Online_Clicks:',round(online_data['Online_Clicks'].skew(),4))\n",
    "print('Skewness of Online_Cost:',round(online_data['Online_Cost'].skew(),4))\n",
    "print('Skewness of Online_Impressions:',round(online_data['Online_Impressions'].skew(),4))"
   ]
  },
  {
   "cell_type": "code",
   "execution_count": 13,
   "id": "f0891228",
   "metadata": {},
   "outputs": [
    {
     "data": {
      "text/html": [
       "<div>\n",
       "<style scoped>\n",
       "    .dataframe tbody tr th:only-of-type {\n",
       "        vertical-align: middle;\n",
       "    }\n",
       "\n",
       "    .dataframe tbody tr th {\n",
       "        vertical-align: top;\n",
       "    }\n",
       "\n",
       "    .dataframe thead th {\n",
       "        text-align: right;\n",
       "    }\n",
       "</style>\n",
       "<table border=\"1\" class=\"dataframe\">\n",
       "  <thead>\n",
       "    <tr style=\"text-align: right;\">\n",
       "      <th></th>\n",
       "      <th>Online_Clicks</th>\n",
       "      <th>Online_Cost</th>\n",
       "      <th>Online_Impressions</th>\n",
       "    </tr>\n",
       "  </thead>\n",
       "  <tbody>\n",
       "    <tr>\n",
       "      <th>count</th>\n",
       "      <td>1324.000000</td>\n",
       "      <td>1324.000000</td>\n",
       "      <td>1324.000000</td>\n",
       "    </tr>\n",
       "    <tr>\n",
       "      <th>mean</th>\n",
       "      <td>896.780211</td>\n",
       "      <td>3086.284429</td>\n",
       "      <td>162118.950151</td>\n",
       "    </tr>\n",
       "    <tr>\n",
       "      <th>std</th>\n",
       "      <td>392.028537</td>\n",
       "      <td>1706.076568</td>\n",
       "      <td>94105.487846</td>\n",
       "    </tr>\n",
       "    <tr>\n",
       "      <th>min</th>\n",
       "      <td>379.000000</td>\n",
       "      <td>920.745095</td>\n",
       "      <td>49979.000000</td>\n",
       "    </tr>\n",
       "    <tr>\n",
       "      <th>25%</th>\n",
       "      <td>604.000000</td>\n",
       "      <td>1895.940392</td>\n",
       "      <td>97460.750000</td>\n",
       "    </tr>\n",
       "    <tr>\n",
       "      <th>50%</th>\n",
       "      <td>820.500000</td>\n",
       "      <td>2754.500707</td>\n",
       "      <td>139315.500000</td>\n",
       "    </tr>\n",
       "    <tr>\n",
       "      <th>75%</th>\n",
       "      <td>1097.500000</td>\n",
       "      <td>3877.788785</td>\n",
       "      <td>197942.250000</td>\n",
       "    </tr>\n",
       "    <tr>\n",
       "      <th>max</th>\n",
       "      <td>2461.000000</td>\n",
       "      <td>14766.997350</td>\n",
       "      <td>574992.000000</td>\n",
       "    </tr>\n",
       "  </tbody>\n",
       "</table>\n",
       "</div>"
      ],
      "text/plain": [
       "       Online_Clicks   Online_Cost  Online_Impressions\n",
       "count    1324.000000   1324.000000         1324.000000\n",
       "mean      896.780211   3086.284429       162118.950151\n",
       "std       392.028537   1706.076568        94105.487846\n",
       "min       379.000000    920.745095        49979.000000\n",
       "25%       604.000000   1895.940392        97460.750000\n",
       "50%       820.500000   2754.500707       139315.500000\n",
       "75%      1097.500000   3877.788785       197942.250000\n",
       "max      2461.000000  14766.997350       574992.000000"
      ]
     },
     "execution_count": 13,
     "metadata": {},
     "output_type": "execute_result"
    }
   ],
   "source": [
    "online_data.describe()"
   ]
  },
  {
   "cell_type": "code",
   "execution_count": 14,
   "id": "5f9735df",
   "metadata": {
    "scrolled": true
   },
   "outputs": [
    {
     "data": {
      "text/html": [
       "<div>\n",
       "<style scoped>\n",
       "    .dataframe tbody tr th:only-of-type {\n",
       "        vertical-align: middle;\n",
       "    }\n",
       "\n",
       "    .dataframe tbody tr th {\n",
       "        vertical-align: top;\n",
       "    }\n",
       "\n",
       "    .dataframe thead th {\n",
       "        text-align: right;\n",
       "    }\n",
       "</style>\n",
       "<table border=\"1\" class=\"dataframe\">\n",
       "  <thead>\n",
       "    <tr style=\"text-align: right;\">\n",
       "      <th></th>\n",
       "      <th>SKU ID</th>\n",
       "      <th>Date</th>\n",
       "      <th>Online_Clicks</th>\n",
       "      <th>Online_Cost</th>\n",
       "      <th>Online_Impressions</th>\n",
       "      <th>Online_Clicks_Scaled</th>\n",
       "      <th>Online_Cost_Scaled</th>\n",
       "      <th>Online_Impressions_Scaled</th>\n",
       "    </tr>\n",
       "  </thead>\n",
       "  <tbody>\n",
       "    <tr>\n",
       "      <th>0</th>\n",
       "      <td>SKU1029</td>\n",
       "      <td>05-01-21</td>\n",
       "      <td>474</td>\n",
       "      <td>1678.909243</td>\n",
       "      <td>53917</td>\n",
       "      <td>6.161207</td>\n",
       "      <td>7.425900</td>\n",
       "      <td>10.895201</td>\n",
       "    </tr>\n",
       "    <tr>\n",
       "      <th>1</th>\n",
       "      <td>SKU1054</td>\n",
       "      <td>05-08-21</td>\n",
       "      <td>1093</td>\n",
       "      <td>7198.857206</td>\n",
       "      <td>178173</td>\n",
       "      <td>6.996681</td>\n",
       "      <td>8.881678</td>\n",
       "      <td>12.090510</td>\n",
       "    </tr>\n",
       "    <tr>\n",
       "      <th>2</th>\n",
       "      <td>SKU1056</td>\n",
       "      <td>11-05-22</td>\n",
       "      <td>1041</td>\n",
       "      <td>5606.850110</td>\n",
       "      <td>224078</td>\n",
       "      <td>6.947937</td>\n",
       "      <td>8.631744</td>\n",
       "      <td>12.319749</td>\n",
       "    </tr>\n",
       "    <tr>\n",
       "      <th>3</th>\n",
       "      <td>SKU1019</td>\n",
       "      <td>3/20/2021</td>\n",
       "      <td>965</td>\n",
       "      <td>4189.187114</td>\n",
       "      <td>191202</td>\n",
       "      <td>6.872128</td>\n",
       "      <td>8.340262</td>\n",
       "      <td>12.161086</td>\n",
       "    </tr>\n",
       "    <tr>\n",
       "      <th>4</th>\n",
       "      <td>SKU1021</td>\n",
       "      <td>04-09-22</td>\n",
       "      <td>860</td>\n",
       "      <td>2890.776596</td>\n",
       "      <td>212875</td>\n",
       "      <td>6.756932</td>\n",
       "      <td>7.969280</td>\n",
       "      <td>12.268460</td>\n",
       "    </tr>\n",
       "  </tbody>\n",
       "</table>\n",
       "</div>"
      ],
      "text/plain": [
       "    SKU ID       Date  Online_Clicks  Online_Cost  Online_Impressions  \\\n",
       "0  SKU1029   05-01-21            474  1678.909243               53917   \n",
       "1  SKU1054   05-08-21           1093  7198.857206              178173   \n",
       "2  SKU1056   11-05-22           1041  5606.850110              224078   \n",
       "3  SKU1019  3/20/2021            965  4189.187114              191202   \n",
       "4  SKU1021   04-09-22            860  2890.776596              212875   \n",
       "\n",
       "   Online_Clicks_Scaled  Online_Cost_Scaled  Online_Impressions_Scaled  \n",
       "0              6.161207            7.425900                  10.895201  \n",
       "1              6.996681            8.881678                  12.090510  \n",
       "2              6.947937            8.631744                  12.319749  \n",
       "3              6.872128            8.340262                  12.161086  \n",
       "4              6.756932            7.969280                  12.268460  "
      ]
     },
     "execution_count": 14,
     "metadata": {},
     "output_type": "execute_result"
    }
   ],
   "source": [
    "#import the package\n",
    "import numpy as np\n",
    "\n",
    "#Save numerical columns in a list\n",
    "cnames = ['Online_Clicks', 'Online_Cost','Online_Impressions' ]\n",
    "\n",
    "#saving the scaled data in the same columns\n",
    "for col in cnames:\n",
    "    online_data[col+\"_Scaled\"] = np.log(online_data[col])\n",
    "\n",
    "online_data.head()"
   ]
  },
  {
   "cell_type": "code",
   "execution_count": 15,
   "id": "dbf5e38e",
   "metadata": {},
   "outputs": [
    {
     "name": "stdout",
     "output_type": "stream",
     "text": [
      "Skewness of Online_Clicks: 0.1708\n",
      "Skewness of Online_Cost: -0.0464\n",
      "Skewness of Online_Impressions: 0.1345\n"
     ]
    }
   ],
   "source": [
    "#check the skewness of the values after scaling\n",
    "print('Skewness of Online_Clicks:',round(online_data['Online_Clicks_Scaled'].skew(),4))\n",
    "print('Skewness of Online_Cost:',round(online_data['Online_Cost_Scaled'].skew(),4))\n",
    "print('Skewness of Online_Impressions:',round(online_data['Online_Impressions_Scaled'].skew(),4))"
   ]
  },
  {
   "cell_type": "code",
   "execution_count": 16,
   "id": "b94a4e07",
   "metadata": {},
   "outputs": [
    {
     "data": {
      "image/png": "[encoded data removed]",
      "text/plain": [
       "<Figure size 1000x500 with 4 Axes>"
      ]
     },
     "metadata": {},
     "output_type": "display_data"
    }
   ],
   "source": [
    "fig, axes = plt.subplots(2,2,figsize=(10, 5))\n",
    "\n",
    "#create chart in each subplot\n",
    "sns.histplot(online_data['Online_Clicks'],  kde= True, bins=50, color='blue', ax=axes[0,0])\n",
    "axes[0,0].set_title('Original Data')\n",
    "axes[0,0].set(xlabel=None)\n",
    "\n",
    "sns.histplot(online_data['Online_Clicks_Scaled'], kde= True,bins=50,color='green', ax=axes[0,1])\n",
    "axes[0,1].set_title('Scaled Data')\n",
    "axes[0,1].set(xlabel=None)\n",
    "\n",
    "sns.boxplot(online_data['Online_Clicks'],  color='blue', ax=axes[1,0])\n",
    "sns.boxplot(online_data['Online_Clicks_Scaled'], color='green', ax=axes[1,1])\n",
    "\n",
    "plt.show()"
   ]
  },
  {
   "cell_type": "markdown",
   "id": "1b01dc56",
   "metadata": {},
   "source": [
    "***Inference:***\n",
    "- It is clearly observed from the histograms that the scaled data is more similar to normal distribution than the original data.\n",
    "- The skewness of the attributes is also reduced. \n",
    "- Boxplots shows that the outliers are taken into account and hence the scaled data do not contain any outliers now."
   ]
  },
  {
   "cell_type": "markdown",
   "id": "9f67ea30",
   "metadata": {},
   "source": [
    "#### Final remarks about data normalization\n",
    "- Every data scientist will face a tricky question during data normalization: ***Whether all the attributes in the dataset should be scaled using the same technique or can we use different scaling techniques on different attributes?***\n",
    "- Unfortunately, there is no one-size-fits-all answer for this question. \n",
    "- However, few considerations can be:\n",
    "    - **Homogeneity of Scaling:**\n",
    "        - When applying machine learning algorithms that are sensitive to the scale of features, it's generally a good practice to scale all numerical attributes using the same technique. \n",
    "        - This ensures that all features have a consistent scale, making them directly comparable.\n",
    "    - **Feature Type:**\n",
    "        - Numerical features (continuous or discrete) are typically candidates for scaling because they can have widely varying scales. \n",
    "        - On the other hand,  categorical features are often not scaled because their values represent categories or labels, and scaling can distort their meaning.\n",
    "    - **Machine learning algorithm's sensitivity:\n",
    "        - Some machine learning algorithms are highly sensitive to feature scaling. \n",
    "        - For example, support vector machines (SVMs) and k-nearest neighbors (KNN) are sensitive to the scale of features and may perform poorly if the scales are inconsistent. \n",
    "        - In such cases, scaling all attributes using the same technique is essential.\n",
    "    - **Domain Knowledge:**\n",
    "        - Domain-specific knowledge and the characteristics of your data may dictate different scaling strategies for different subsets of attributes. \n",
    "        - For example, in finance, we may have some financial ratios that should not be scaled, while others may benefit from scaling.\n",
    "    - **Data Distribution:**\n",
    "        - If our data contains features with different data distributions, we may need to apply different scaling techniques. \n",
    "        - For example, we may use Min-Max scaling for one set of features and Z-score standardization for another set.\n",
    "    - **Dimensionality Reduction Techniques:**\n",
    "        - If we plan to use dimensionality reduction techniques like Principal Component Analysis (PCA), it's often recommended to scale all numerical attributes to prevent features with larger scales from dominating the results.\n",
    "        \n",
    "- In summary, it's important to consider the characteristics of our data and the requirements of the machine learning algorithms. \n",
    "- We may need to experiment with different scaling techniques or even apply them selectively to subsets of your features based on their properties and the context of our analysis. \n",
    "- It is a best practice to document the data preprocessing steps to maintain transparency and reproducibility."
   ]
  },
  {
   "cell_type": "code",
   "execution_count": null,
   "id": "14a0604b",
   "metadata": {},
   "outputs": [],
   "source": []
  },
  {
   "cell_type": "markdown",
   "id": "964c4237",
   "metadata": {},
   "source": [
    "### Part 4.3.4  : Finding outlying data points\n",
    "- Outlier detection is the process of identifying data points or observations that significantly deviate from the majority of the data in a dataset. \n",
    "- They are the values that are unusually distant from the central tendency of the data, such as the mean or median. \n",
    "- Outliers can be caused by various factors:\n",
    "    - errors in data collection\n",
    "    - measurement noise\n",
    "    - the presence of rare events\n",
    "- Understanding and handling outliers is crucial in data analysis and modeling, as they can have a significant impact on statistical results and machine learning algorithms.\n",
    "- Outliers can be univariate or multivariate in the dataset. That is, outliers may exist in only one attribute of the dataset or may exist in more than one attributes.\n",
    "\n",
    "**Methods to detect the outliers:**\n",
    "- **Visual Methods**:\n",
    "    - **Box Plots**: As we have seen before, box plots visually show the range of the data, with outliers plotted as individual points outside the whiskers.\n",
    "    - **Histograms**: A sudden spike or dip in a histogram can indicate outliers.\n",
    "    - **Scatter Plots**: For bivariate data, scatter plots can help visualize outliers as points that fall far from the main cluster of data.\n",
    "    \n",
    "- **Statistical Methods**:\n",
    "    - **Z-Score**: \n",
    "        - We have seen earlier that when data is distributed normally, 99.7% of the data points lie within the range of 3 standard deviations ($\\sigma$) from the mean. \n",
    "        - So, any datapoint which is greater than $3\\sigma$ or lesser than $-3\\sigma$ can be considered as an outlier.\n",
    "    - **IQR (Interquartile Range)**: \n",
    "        - Data points that fall below $Q1 - 1.5 \\times IQR$ or above $Q3 + 1.5 \\times IQR$ are considered as outliers. \n"
   ]
  },
  {
   "cell_type": "markdown",
   "id": "2a0c6d67",
   "metadata": {},
   "source": [
    "**Let us use online data to visualize the outliers and to list out those records**"
   ]
  },
  {
   "cell_type": "code",
   "execution_count": 17,
   "id": "4241a347",
   "metadata": {},
   "outputs": [
    {
     "data": {
      "text/html": [
       "<div>\n",
       "<style scoped>\n",
       "    .dataframe tbody tr th:only-of-type {\n",
       "        vertical-align: middle;\n",
       "    }\n",
       "\n",
       "    .dataframe tbody tr th {\n",
       "        vertical-align: top;\n",
       "    }\n",
       "\n",
       "    .dataframe thead th {\n",
       "        text-align: right;\n",
       "    }\n",
       "</style>\n",
       "<table border=\"1\" class=\"dataframe\">\n",
       "  <thead>\n",
       "    <tr style=\"text-align: right;\">\n",
       "      <th></th>\n",
       "      <th>SKU ID</th>\n",
       "      <th>Date</th>\n",
       "      <th>Online_Clicks</th>\n",
       "      <th>Online_Cost</th>\n",
       "      <th>Online_Impressions</th>\n",
       "    </tr>\n",
       "  </thead>\n",
       "  <tbody>\n",
       "    <tr>\n",
       "      <th>0</th>\n",
       "      <td>SKU1029</td>\n",
       "      <td>05-01-21</td>\n",
       "      <td>474</td>\n",
       "      <td>1678.909243</td>\n",
       "      <td>53917</td>\n",
       "    </tr>\n",
       "    <tr>\n",
       "      <th>1</th>\n",
       "      <td>SKU1054</td>\n",
       "      <td>05-08-21</td>\n",
       "      <td>1093</td>\n",
       "      <td>7198.857206</td>\n",
       "      <td>178173</td>\n",
       "    </tr>\n",
       "    <tr>\n",
       "      <th>2</th>\n",
       "      <td>SKU1056</td>\n",
       "      <td>11-05-22</td>\n",
       "      <td>1041</td>\n",
       "      <td>5606.850110</td>\n",
       "      <td>224078</td>\n",
       "    </tr>\n",
       "    <tr>\n",
       "      <th>3</th>\n",
       "      <td>SKU1019</td>\n",
       "      <td>3/20/2021</td>\n",
       "      <td>965</td>\n",
       "      <td>4189.187114</td>\n",
       "      <td>191202</td>\n",
       "    </tr>\n",
       "    <tr>\n",
       "      <th>4</th>\n",
       "      <td>SKU1021</td>\n",
       "      <td>04-09-22</td>\n",
       "      <td>860</td>\n",
       "      <td>2890.776596</td>\n",
       "      <td>212875</td>\n",
       "    </tr>\n",
       "  </tbody>\n",
       "</table>\n",
       "</div>"
      ],
      "text/plain": [
       "    SKU ID       Date  Online_Clicks  Online_Cost  Online_Impressions\n",
       "0  SKU1029   05-01-21            474  1678.909243               53917\n",
       "1  SKU1054   05-08-21           1093  7198.857206              178173\n",
       "2  SKU1056   11-05-22           1041  5606.850110              224078\n",
       "3  SKU1019  3/20/2021            965  4189.187114              191202\n",
       "4  SKU1021   04-09-22            860  2890.776596              212875"
      ]
     },
     "execution_count": 17,
     "metadata": {},
     "output_type": "execute_result"
    }
   ],
   "source": [
    "#read the data\n",
    "online_data = pd.read_csv('Online_Data.csv')\n",
    "online_data.head()"
   ]
  },
  {
   "cell_type": "code",
   "execution_count": 18,
   "id": "0f37eb53",
   "metadata": {},
   "outputs": [
    {
     "data": {
      "text/plain": [
       "(1324, 5)"
      ]
     },
     "execution_count": 18,
     "metadata": {},
     "output_type": "execute_result"
    }
   ],
   "source": [
    "#total records\n",
    "online_data.shape"
   ]
  },
  {
   "cell_type": "markdown",
   "id": "7cf4bff7",
   "metadata": {},
   "source": [
    "**Plot the boxplot of all three numerical attributes to identify outliers**"
   ]
  },
  {
   "cell_type": "code",
   "execution_count": 19,
   "id": "8cbdea54",
   "metadata": {},
   "outputs": [
    {
     "data": {
      "image/png": "[encoded data removed]",
      "text/plain": [
       "<Figure size 1400x300 with 3 Axes>"
      ]
     },
     "metadata": {},
     "output_type": "display_data"
    }
   ],
   "source": [
    "fig, axes = plt.subplots(1,3,figsize=(14, 3))\n",
    "\n",
    "sns.boxplot(online_data['Online_Clicks'],  color='blue', ax=axes[0])\n",
    "sns.boxplot(online_data['Online_Cost'], color='green', ax=axes[1])\n",
    "sns.boxplot(online_data['Online_Impressions'], color='red', ax=axes[2])\n",
    "\n",
    "plt.show()"
   ]
  },
  {
   "cell_type": "markdown",
   "id": "777a8a66",
   "metadata": {},
   "source": [
    "***Explanation:***\n",
    "- We can observe from the graphs that all three attributes have considerable amount of outliers.\n",
    "- Now let us find out the count of outliers in each of these attributes."
   ]
  },
  {
   "cell_type": "code",
   "execution_count": 20,
   "id": "728a551b",
   "metadata": {},
   "outputs": [],
   "source": [
    "#write a function to get the records with outliers \n",
    "def get_outliers(col):\n",
    "    Q1 = online_data[col].quantile(0.25)\n",
    "    Q3 = online_data[col].quantile(0.75)\n",
    "    IQR = Q3 - Q1\n",
    "    \n",
    "    outliers = online_data[(online_data[col] < (Q1 - 1.5 * IQR)) | (online_data[col] > (Q3 + 1.5 * IQR))]\n",
    "    return outliers    #this will return the dataframe containing outlier records in a specific attribute"
   ]
  },
  {
   "cell_type": "code",
   "execution_count": 21,
   "id": "c1473a9a",
   "metadata": {},
   "outputs": [
    {
     "name": "stdout",
     "output_type": "stream",
     "text": [
      "Number of records with outliers in the attribute Online_Clicks 40\n",
      "Number of records with outliers in the attribute Online_Cost 48\n",
      "Number of records with outliers in the attribute Online_Impressions 81\n"
     ]
    }
   ],
   "source": [
    "#call the function to get outliers in each of these attributes\n",
    "#pass the column name to the function\n",
    "\n",
    "Outliers_OnlineClicks = get_outliers('Online_Clicks')\n",
    "Outliers_OnlineCost = get_outliers('Online_Cost')\n",
    "Outliers_OnlineImpressions = get_outliers('Online_Impressions')\n",
    "\n",
    "print(\"Number of records with outliers in the attribute Online_Clicks\",Outliers_OnlineClicks.shape[0])\n",
    "print(\"Number of records with outliers in the attribute Online_Cost\",Outliers_OnlineCost.shape[0])\n",
    "print(\"Number of records with outliers in the attribute Online_Impressions\",Outliers_OnlineImpressions.shape[0])"
   ]
  },
  {
   "cell_type": "markdown",
   "id": "6f0bf86e",
   "metadata": {},
   "source": [
    "**NOTE:**\n",
    "- We can see that the attributes Online_Clicks, Online_Cost and Online_Impressions have 40, 48 and 81 outliers respectively.\n",
    "- However, we cannot say that there are 169 outlier records (sum of the above numbers) in the dataset, becasue there are chances that same row may contain outlier value in more than one attribute.\n",
    "- So, let us find out the unique row-indices of these records where outliers are found.\n",
    "- Here is the logic to do this task:\n",
    "    - List out the row indices for all the rows containing outliers in the three attributes.\n",
    "    - Add these list of row indices.\n",
    "    - Apply ***set()*** on this summed list.\n",
    "    - ***set()*** is a data structure in Python, which can be used to store values of different data types.\n",
    "    - However, as we have better data structures like **list()** in python to store the heterogeneous data, sets are rarely used.\n",
    "    - But, the set() makes sure that there are no duplicate entries in it.\n",
    "    - Hence, applying set() on a list will remove all the duplicates in that list and returns the unique values.\n",
    "    - As the result is now a set, we can convert it back to list."
   ]
  },
  {
   "cell_type": "code",
   "execution_count": 22,
   "id": "7100bbe3",
   "metadata": {},
   "outputs": [
    {
     "data": {
      "text/html": [
       "<div>\n",
       "<style scoped>\n",
       "    .dataframe tbody tr th:only-of-type {\n",
       "        vertical-align: middle;\n",
       "    }\n",
       "\n",
       "    .dataframe tbody tr th {\n",
       "        vertical-align: top;\n",
       "    }\n",
       "\n",
       "    .dataframe thead th {\n",
       "        text-align: right;\n",
       "    }\n",
       "</style>\n",
       "<table border=\"1\" class=\"dataframe\">\n",
       "  <thead>\n",
       "    <tr style=\"text-align: right;\">\n",
       "      <th></th>\n",
       "      <th>SKU ID</th>\n",
       "      <th>Date</th>\n",
       "      <th>Online_Clicks</th>\n",
       "      <th>Online_Cost</th>\n",
       "      <th>Online_Impressions</th>\n",
       "    </tr>\n",
       "  </thead>\n",
       "  <tbody>\n",
       "    <tr>\n",
       "      <th>1024</th>\n",
       "      <td>SKU1035</td>\n",
       "      <td>07-02-22</td>\n",
       "      <td>1520</td>\n",
       "      <td>3336.260897</td>\n",
       "      <td>363378</td>\n",
       "    </tr>\n",
       "    <tr>\n",
       "      <th>1</th>\n",
       "      <td>SKU1054</td>\n",
       "      <td>05-08-21</td>\n",
       "      <td>1093</td>\n",
       "      <td>7198.857206</td>\n",
       "      <td>178173</td>\n",
       "    </tr>\n",
       "    <tr>\n",
       "      <th>1026</th>\n",
       "      <td>SKU1023</td>\n",
       "      <td>01-09-21</td>\n",
       "      <td>1569</td>\n",
       "      <td>3856.319322</td>\n",
       "      <td>380198</td>\n",
       "    </tr>\n",
       "    <tr>\n",
       "      <th>1027</th>\n",
       "      <td>SKU1044</td>\n",
       "      <td>1/23/2021</td>\n",
       "      <td>1750</td>\n",
       "      <td>4487.536271</td>\n",
       "      <td>369895</td>\n",
       "    </tr>\n",
       "    <tr>\n",
       "      <th>1028</th>\n",
       "      <td>SKU1032</td>\n",
       "      <td>8/21/2021</td>\n",
       "      <td>1970</td>\n",
       "      <td>4736.309255</td>\n",
       "      <td>376137</td>\n",
       "    </tr>\n",
       "  </tbody>\n",
       "</table>\n",
       "</div>"
      ],
      "text/plain": [
       "       SKU ID       Date  Online_Clicks  Online_Cost  Online_Impressions\n",
       "1024  SKU1035   07-02-22           1520  3336.260897              363378\n",
       "1     SKU1054   05-08-21           1093  7198.857206              178173\n",
       "1026  SKU1023   01-09-21           1569  3856.319322              380198\n",
       "1027  SKU1044  1/23/2021           1750  4487.536271              369895\n",
       "1028  SKU1032  8/21/2021           1970  4736.309255              376137"
      ]
     },
     "execution_count": 22,
     "metadata": {},
     "output_type": "execute_result"
    }
   ],
   "source": [
    "# get the records with outliers\n",
    "outlier_records = list(set(list(Outliers_OnlineClicks.index)+ list(Outliers_OnlineCost.index)+ list(Outliers_OnlineImpressions.index)))\n",
    "\n",
    "#create a dataframe of only these records\n",
    "outliers_df=online_data.loc[outlier_records]\n",
    "outliers_df.head()\n"
   ]
  },
  {
   "cell_type": "code",
   "execution_count": 23,
   "id": "92808238",
   "metadata": {},
   "outputs": [
    {
     "name": "stdout",
     "output_type": "stream",
     "text": [
      "Total number of outliers in the entire dataset = 126\n"
     ]
    }
   ],
   "source": [
    "print('Total number of outliers in the entire dataset =', outliers_df.shape[0])"
   ]
  },
  {
   "cell_type": "code",
   "execution_count": 24,
   "id": "7ec2a9d9",
   "metadata": {},
   "outputs": [
    {
     "name": "stdout",
     "output_type": "stream",
     "text": [
      "Total number of records without outliers in the entire dataset = 1198\n"
     ]
    }
   ],
   "source": [
    "#filter out the records containing outliers\n",
    "non_outliers_df = online_data.drop(outlier_records,axis=0)\n",
    "print('Total number of records without outliers in the entire dataset =',non_outliers_df.shape[0])"
   ]
  },
  {
   "cell_type": "markdown",
   "id": "6305fae7",
   "metadata": {},
   "source": [
    "**Visualize the distribution of the records with and without outliers to observe the significant difference that they make to the data.**"
   ]
  },
  {
   "cell_type": "code",
   "execution_count": 25,
   "id": "1a0e53b3",
   "metadata": {},
   "outputs": [
    {
     "data": {
      "image/png": "[encoded data removed]",
      "text/plain": [
       "<Figure size 1400x300 with 3 Axes>"
      ]
     },
     "metadata": {},
     "output_type": "display_data"
    }
   ],
   "source": [
    "fig, axes = plt.subplots(1,3,figsize=(14, 3))\n",
    "\n",
    "sns.kdeplot(data=outliers_df['Online_Clicks'].cumsum(),\n",
    "            color='crimson', label='Online_Clicks_Outliers', fill=True, ax=axes[0])\n",
    "sns.kdeplot(data=non_outliers_df['Online_Clicks'].cumsum(),\n",
    "            color='limegreen', label='Online_Clicks_Normal', fill=True, ax=axes[0])\n",
    "\n",
    "\n",
    "sns.kdeplot(data=outliers_df['Online_Cost'].cumsum(),\n",
    "            color='crimson', label='Online_Cost_Outliers', fill=True, ax=axes[1])\n",
    "sns.kdeplot(data=non_outliers_df['Online_Cost'].cumsum(),\n",
    "            color='limegreen', label='Online_Cost_Normal', fill=True, ax=axes[1])\n",
    "\n",
    "\n",
    "sns.kdeplot(data=outliers_df['Online_Impressions'].cumsum(),\n",
    "            color='crimson', label='Online_Impressions_Outliers', fill=True, ax=axes[2])\n",
    "sns.kdeplot(data=non_outliers_df['Online_Impressions'].cumsum(),\n",
    "            color='limegreen', label='Online_Impressions_Normal', fill=True, ax=axes[2])\n",
    "\n",
    "\n",
    "plt.tight_layout()\n",
    "plt.show()"
   ]
  },
  {
   "cell_type": "markdown",
   "id": "708ef06d",
   "metadata": {},
   "source": [
    "***Inference:***\n",
    "- From the graphs, we can make out that the outlier values are significantly different from the rest of the values in their statistical distribution and the properties.\n",
    "- We can use *describe()* function also to observe such differences, but visuals give better idea."
   ]
  },
  {
   "cell_type": "code",
   "execution_count": null,
   "id": "1cbb6406",
   "metadata": {},
   "outputs": [],
   "source": []
  },
  {
   "cell_type": "markdown",
   "id": "b55e6f10",
   "metadata": {},
   "source": [
    "### Part 4.3.5  : How to deal with outliers?\n",
    "- Sometimes, outliers may not be wrong values. For example, an employee dataset may contain a few records with very high values for the salary of an employee, that may be significantly higher from the rest of the values. These records may pertain to the executives and are not wrong values.  However, if the age column contains values like 200 or 500, then obviously it is an error in data entry.\n",
    "- So, while dealing with the outliers, one must apply domain knowledge and understanding.\n",
    "- There are several approaches to handle outliers:\n",
    "    - **Removal:** We can remove outliers from the dataset, but this should be done with caution, because we might be losing information.\n",
    "    - **Transformation:** We can apply data transformations (e.g., log transformation) to make the data less sensitive to outliers.\n",
    "    - **Imputation:** For some types of outliers, imputation methods can be used to replace them with more reasonable values. For example, we can replace the outlier values in an attribute with the median value of that attribute.\n",
    "    - **Capping outliers using IQR ranges:** This is also an alternative technique to imputing the outliers. We can cap the outliers by replacing them with some capped values. The most widely used approach is to cap the outliers at the lower whisker by $Q1 - 1.5*IQR$ and cap the outliers at upper whisker by $Q3 + 1.5*IQR$\n",
    "    - **Model-Based Approaches:** Some algorithms are robust to outliers. So, we need not worry about existance of outliers in such cases. However, when we are using the models which are highly influenced by outliers, we can build two models - one with the dataset without outliers, and the other model for the records consisting of outliers. Then, we can aggregate the performance of these two models to infer the overall model performance. \n",
    "    - **Domain Knowledge:** Understanding the domain and the context of the data can help determine whether an observation is a legitimate outlier or an error."
   ]
  },
  {
   "cell_type": "markdown",
   "id": "7bb96090",
   "metadata": {},
   "source": [
    "**Let us implement the imputation technique on online data**"
   ]
  },
  {
   "cell_type": "code",
   "execution_count": 27,
   "id": "6abcb306",
   "metadata": {
    "code_folding": []
   },
   "outputs": [
    {
     "data": {
      "text/plain": [
       "820.5"
      ]
     },
     "execution_count": 27,
     "metadata": {},
     "output_type": "execute_result"
    }
   ],
   "source": [
    "# compute the median value of the attribute having outliers\n",
    "OnlineClicks_median = online_data['Online_Clicks'].median()\n",
    "OnlineClicks_median"
   ]
  },
  {
   "cell_type": "code",
   "execution_count": 28,
   "id": "ac4b84ed",
   "metadata": {
    "code_folding": []
   },
   "outputs": [
    {
     "data": {
      "text/plain": [
       "(604.0, 1097.5)"
      ]
     },
     "execution_count": 28,
     "metadata": {},
     "output_type": "execute_result"
    }
   ],
   "source": [
    "# calculate Q1 and Q3\n",
    "online_data['Online_Clicks'].quantile(0.25), online_data['Online_Clicks'].quantile(0.75)"
   ]
  },
  {
   "cell_type": "code",
   "execution_count": 29,
   "id": "b4a4dfc6",
   "metadata": {
    "code_folding": []
   },
   "outputs": [
    {
     "data": {
      "image/png": "[encoded data removed]",
      "text/plain": [
       "<Figure size 800x300 with 2 Axes>"
      ]
     },
     "metadata": {},
     "output_type": "display_data"
    }
   ],
   "source": [
    "# create a boxplot of Online_Clicks to visualize outliers\n",
    "fig, axes = plt.subplots(1,2,figsize=(8, 3))\n",
    "sns.boxplot(data = online_data['Online_Clicks'], ax = axes[0])\n",
    "axes[0].set_title('Original Data')\n",
    "\n",
    "# identify the rows containing outliers using IQR\n",
    "Q1 = online_data['Online_Clicks'].quantile(0.25)\n",
    "Q3 = online_data['Online_Clicks'].quantile(0.75)\n",
    "IQR = Q3 - Q1\n",
    "\n",
    "# the following code returns True or False for each row, based on whether \n",
    "# Online_Clicks in that row is an outlier or not\n",
    "outliers_boolean = (online_data['Online_Clicks'] < (Q1 - 1.5 * IQR)) | (online_data['Online_Clicks'] > (Q3 + 1.5 * IQR))\n",
    "\n",
    "# replace the outlier values with the median value\n",
    "online_data['Online_Clicks'] = np.where(outliers_boolean, OnlineClicks_median, online_data['Online_Clicks'])\n",
    "\n",
    "# draw the boxplot after imputation\n",
    "sns.boxplot(data = online_data['Online_Clicks'], ax = axes[1])\n",
    "axes[1].set_title('After Imputation')\n",
    "\n",
    "plt.tight_layout()\n",
    "plt.show()"
   ]
  },
  {
   "cell_type": "markdown",
   "id": "fce22b99",
   "metadata": {},
   "source": [
    "***Inference:***\n",
    "- From the graphs, we see that the imputation has had a lot of impact on the data.\n",
    "- However, even after imputation, there are a few outliers. This is because when we replace the outlier values at the upper end with the median of the original data, the value of Q3 will change significantly and so the upper whisker will also change. \n",
    "- However, clearly there are fewer outliers than before."
   ]
  },
  {
   "cell_type": "markdown",
   "id": "780e868c",
   "metadata": {},
   "source": [
    "**Removing the records with outliers:**\n",
    "- As discussed before, we can remove the records containing outliers values.\n",
    "- However, we have to make sure that the removal does not affect the performance of the further model building process.\n",
    "- To remove the outlier data, we just need to drop those rows containing outliers - we created the dataframe *non_outliers_df* earlier"
   ]
  },
  {
   "cell_type": "markdown",
   "id": "8b41d329",
   "metadata": {},
   "source": [
    "#### Capping the outliers using IQR Range"
   ]
  },
  {
   "cell_type": "code",
   "execution_count": 30,
   "id": "ef84ef6c",
   "metadata": {
    "code_folding": [
     0
    ]
   },
   "outputs": [
    {
     "data": {
      "text/html": [
       "<div>\n",
       "<style scoped>\n",
       "    .dataframe tbody tr th:only-of-type {\n",
       "        vertical-align: middle;\n",
       "    }\n",
       "\n",
       "    .dataframe tbody tr th {\n",
       "        vertical-align: top;\n",
       "    }\n",
       "\n",
       "    .dataframe thead th {\n",
       "        text-align: right;\n",
       "    }\n",
       "</style>\n",
       "<table border=\"1\" class=\"dataframe\">\n",
       "  <thead>\n",
       "    <tr style=\"text-align: right;\">\n",
       "      <th></th>\n",
       "      <th>SKU ID</th>\n",
       "      <th>Date</th>\n",
       "      <th>Online_Clicks</th>\n",
       "      <th>Online_Cost</th>\n",
       "      <th>Online_Impressions</th>\n",
       "    </tr>\n",
       "  </thead>\n",
       "  <tbody>\n",
       "    <tr>\n",
       "      <th>0</th>\n",
       "      <td>SKU1029</td>\n",
       "      <td>05-01-21</td>\n",
       "      <td>474</td>\n",
       "      <td>1678.909243</td>\n",
       "      <td>53917</td>\n",
       "    </tr>\n",
       "    <tr>\n",
       "      <th>1</th>\n",
       "      <td>SKU1054</td>\n",
       "      <td>05-08-21</td>\n",
       "      <td>1093</td>\n",
       "      <td>7198.857206</td>\n",
       "      <td>178173</td>\n",
       "    </tr>\n",
       "    <tr>\n",
       "      <th>2</th>\n",
       "      <td>SKU1056</td>\n",
       "      <td>11-05-22</td>\n",
       "      <td>1041</td>\n",
       "      <td>5606.850110</td>\n",
       "      <td>224078</td>\n",
       "    </tr>\n",
       "    <tr>\n",
       "      <th>3</th>\n",
       "      <td>SKU1019</td>\n",
       "      <td>3/20/2021</td>\n",
       "      <td>965</td>\n",
       "      <td>4189.187114</td>\n",
       "      <td>191202</td>\n",
       "    </tr>\n",
       "    <tr>\n",
       "      <th>4</th>\n",
       "      <td>SKU1021</td>\n",
       "      <td>04-09-22</td>\n",
       "      <td>860</td>\n",
       "      <td>2890.776596</td>\n",
       "      <td>212875</td>\n",
       "    </tr>\n",
       "  </tbody>\n",
       "</table>\n",
       "</div>"
      ],
      "text/plain": [
       "    SKU ID       Date  Online_Clicks  Online_Cost  Online_Impressions\n",
       "0  SKU1029   05-01-21            474  1678.909243               53917\n",
       "1  SKU1054   05-08-21           1093  7198.857206              178173\n",
       "2  SKU1056   11-05-22           1041  5606.850110              224078\n",
       "3  SKU1019  3/20/2021            965  4189.187114              191202\n",
       "4  SKU1021   04-09-22            860  2890.776596              212875"
      ]
     },
     "execution_count": 30,
     "metadata": {},
     "output_type": "execute_result"
    }
   ],
   "source": [
    "#read the data\n",
    "online_data = pd.read_csv('Online_Data.csv')\n",
    "online_data.head()"
   ]
  },
  {
   "cell_type": "code",
   "execution_count": 31,
   "id": "6a6e970b",
   "metadata": {
    "code_folding": []
   },
   "outputs": [],
   "source": [
    "# compute the IQR\n",
    "Q1 = online_data['Online_Clicks'].quantile(0.25)\n",
    "Q3 = online_data['Online_Clicks'].quantile(0.75)\n",
    "IQR = Q3 - Q1"
   ]
  },
  {
   "cell_type": "markdown",
   "id": "1bd71dc4",
   "metadata": {},
   "source": [
    "**Logic to clip the values:**\n",
    "- If a value is greater than $Q3 + 1.5 * IQR$, then replace that value with $Q3 + 1.5 * IQR$.\n",
    "- If a value is lesser than $Q1 - 1.5 * IQR$, then replace that value with $Q1 - 1.5 * IQR$."
   ]
  },
  {
   "cell_type": "code",
   "execution_count": 32,
   "id": "e9daadf7",
   "metadata": {
    "code_folding": []
   },
   "outputs": [],
   "source": [
    "# clip using this logic\n",
    "online_data['Online_Clicks'] = np.where(online_data[\"Online_Clicks\"]> (Q3 + 1.5 * IQR), (Q3 + 1.5 * IQR),\n",
    "                        np.where(online_data[\"Online_Clicks\"]< (Q1 - 1.5 * IQR), (Q1 - 1.5 * IQR),\n",
    "                          online_data['Online_Clicks']))"
   ]
  },
  {
   "cell_type": "code",
   "execution_count": 33,
   "id": "dd719279",
   "metadata": {
    "code_folding": []
   },
   "outputs": [
    {
     "data": {
      "text/plain": [
       "<Axes: >"
      ]
     },
     "execution_count": 33,
     "metadata": {},
     "output_type": "execute_result"
    },
    {
     "data": {
      "image/png": "[encoded data removed]",
      "text/plain": [
       "<Figure size 500x400 with 1 Axes>"
      ]
     },
     "metadata": {},
     "output_type": "display_data"
    }
   ],
   "source": [
    "#check for the outliers now\n",
    "plt.figure(figsize=(5,4))\n",
    "sns.boxplot(data=online_data['Online_Clicks'])"
   ]
  },
  {
   "cell_type": "markdown",
   "id": "e8d22e11",
   "metadata": {},
   "source": [
    "***Inferences:***\n",
    "- We can see that there are no more outliers in the column *Online_Clicks*\n",
    "- Observe the y-axis value range only upto 1800, unlike the earlier 2500. "
   ]
  },
  {
   "attachments": {
    "image.png": {
     "image/png": "[encoded data removed]"
    }
   },
   "cell_type": "markdown",
   "id": "77ec3692",
   "metadata": {},
   "source": [
    "![image.png](attachment:image.png)"
   ]
  },
  {
   "cell_type": "code",
   "execution_count": null,
   "id": "1f7326fb",
   "metadata": {},
   "outputs": [],
   "source": []
  }
 ],
 "metadata": {
  "kernelspec": {
   "display_name": "Python 3",
   "language": "python",
   "name": "python3"
  },
  "language_info": {
   "codemirror_mode": {
    "name": "ipython",
    "version": 3
   },
   "file_extension": ".py",
   "mimetype": "text/x-python",
   "name": "python",
   "nbconvert_exporter": "python",
   "pygments_lexer": "ipython3",
   "version": "3.11.1"
  }
 },
 "nbformat": 4,
 "nbformat_minor": 5
}
